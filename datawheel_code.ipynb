{
 "cells": [
  {
   "cell_type": "markdown",
   "metadata": {},
   "source": [
    "Python libraries"
   ]
  },
  {
   "cell_type": "code",
   "execution_count": 77,
   "metadata": {},
   "outputs": [],
   "source": [
    "import pandas as pd\n",
    "import numpy as np\n",
    "import seaborn as sns\n",
    "import plotly.express as px\n",
    "import matplotlib.pyplot as plt"
   ]
  },
  {
   "cell_type": "markdown",
   "metadata": {},
   "source": [
    "load/open the files"
   ]
  },
  {
   "cell_type": "code",
   "execution_count": 78,
   "metadata": {},
   "outputs": [],
   "source": [
    "data1=pd.read_csv('pumas_occupations_num_employees.csv')\n",
    "\n",
    "#CSV tiene 529202 filas y 6 columnas\n",
    "\n",
    "data2=pd.read_csv('occupations_avg_wage.csv')\n",
    "\n",
    "#CSV tiene 617 filas y 3 columnas"
   ]
  },
  {
   "cell_type": "markdown",
   "metadata": {},
   "source": [
    "In this cell, I analyze some information from the datasets"
   ]
  },
  {
   "cell_type": "code",
   "execution_count": 79,
   "metadata": {},
   "outputs": [
    {
     "name": "stdout",
     "output_type": "stream",
     "text": [
      "The CSV file \"data1\" contains 2378 Locations\n",
      "The CSV file \"data1\" contains 529 Occupations\n",
      "The CSV file \"data2\" contains 617 Occupations\n"
     ]
    }
   ],
   "source": [
    "#Valores unicos de ubicaciones\n",
    "location=data1['puma_name'].unique()\n",
    "print(f'The CSV file \"data1\" contains {len(location)} Locations') #2378\n",
    "\n",
    "\n",
    "#Valores únicos de ocupaciones\n",
    "occupation1=data1['occupation_id'].unique()\n",
    "print(f'The CSV file \"data1\" contains {len(occupation1)} Occupations') #529\n",
    "\n",
    "#Comprobar si existe la misma cantidad de ocupaciones que en el otro dataset\n",
    "occupation2=data2['Detailed Occupation'].unique()\n",
    "print(f'The CSV file \"data2\" contains {len(occupation2)} Occupations') #617 \n"
   ]
  },
  {
   "cell_type": "markdown",
   "metadata": {},
   "source": [
    "In this cell, I merge both datasets"
   ]
  },
  {
   "cell_type": "code",
   "execution_count": 80,
   "metadata": {},
   "outputs": [
    {
     "data": {
      "text/html": [
       "<div>\n",
       "<style scoped>\n",
       "    .dataframe tbody tr th:only-of-type {\n",
       "        vertical-align: middle;\n",
       "    }\n",
       "\n",
       "    .dataframe tbody tr th {\n",
       "        vertical-align: top;\n",
       "    }\n",
       "\n",
       "    .dataframe thead th {\n",
       "        text-align: right;\n",
       "    }\n",
       "</style>\n",
       "<table border=\"1\" class=\"dataframe\">\n",
       "  <thead>\n",
       "    <tr style=\"text-align: right;\">\n",
       "      <th></th>\n",
       "      <th>Location ID</th>\n",
       "      <th>Location</th>\n",
       "      <th>Occupation ID</th>\n",
       "      <th>Occupation</th>\n",
       "      <th>Number of employees</th>\n",
       "      <th>AVG Salary for Each Occupation by Location</th>\n",
       "      <th>AVG National Salary for Each Occupation</th>\n",
       "    </tr>\n",
       "  </thead>\n",
       "  <tbody>\n",
       "    <tr>\n",
       "      <th>0</th>\n",
       "      <td>79500US1205701</td>\n",
       "      <td>Tampa City (Central) PUMA, FL</td>\n",
       "      <td>111021</td>\n",
       "      <td>General &amp; operations managers</td>\n",
       "      <td>303</td>\n",
       "      <td>216321.300330</td>\n",
       "      <td>78932.012723</td>\n",
       "    </tr>\n",
       "    <tr>\n",
       "      <th>1</th>\n",
       "      <td>79500US1205704</td>\n",
       "      <td>Hillsborough County (North Central) PUMA, FL</td>\n",
       "      <td>111021</td>\n",
       "      <td>General &amp; operations managers</td>\n",
       "      <td>523</td>\n",
       "      <td>76270.904398</td>\n",
       "      <td>78932.012723</td>\n",
       "    </tr>\n",
       "    <tr>\n",
       "      <th>2</th>\n",
       "      <td>79500US1210101</td>\n",
       "      <td>Pasco County (East Central) PUMA, FL</td>\n",
       "      <td>111021</td>\n",
       "      <td>General &amp; operations managers</td>\n",
       "      <td>602</td>\n",
       "      <td>52711.337209</td>\n",
       "      <td>78932.012723</td>\n",
       "    </tr>\n",
       "    <tr>\n",
       "      <th>3</th>\n",
       "      <td>79500US1206903</td>\n",
       "      <td>Lake (South) &amp; Sumter (South) Counties PUMA, FL</td>\n",
       "      <td>111021</td>\n",
       "      <td>General &amp; operations managers</td>\n",
       "      <td>472</td>\n",
       "      <td>48562.330508</td>\n",
       "      <td>78932.012723</td>\n",
       "    </tr>\n",
       "    <tr>\n",
       "      <th>4</th>\n",
       "      <td>79500US1206901</td>\n",
       "      <td>Lake County (North) PUMA, FL</td>\n",
       "      <td>111021</td>\n",
       "      <td>General &amp; operations managers</td>\n",
       "      <td>1005</td>\n",
       "      <td>83048.953234</td>\n",
       "      <td>78932.012723</td>\n",
       "    </tr>\n",
       "  </tbody>\n",
       "</table>\n",
       "</div>"
      ],
      "text/plain": [
       "      Location ID                                         Location  \\\n",
       "0  79500US1205701                    Tampa City (Central) PUMA, FL   \n",
       "1  79500US1205704     Hillsborough County (North Central) PUMA, FL   \n",
       "2  79500US1210101             Pasco County (East Central) PUMA, FL   \n",
       "3  79500US1206903  Lake (South) & Sumter (South) Counties PUMA, FL   \n",
       "4  79500US1206901                     Lake County (North) PUMA, FL   \n",
       "\n",
       "  Occupation ID                     Occupation  Number of employees  \\\n",
       "0        111021  General & operations managers                  303   \n",
       "1        111021  General & operations managers                  523   \n",
       "2        111021  General & operations managers                  602   \n",
       "3        111021  General & operations managers                  472   \n",
       "4        111021  General & operations managers                 1005   \n",
       "\n",
       "   AVG Salary for Each Occupation by Location  \\\n",
       "0                               216321.300330   \n",
       "1                                76270.904398   \n",
       "2                                52711.337209   \n",
       "3                                48562.330508   \n",
       "4                                83048.953234   \n",
       "\n",
       "   AVG National Salary for Each Occupation  \n",
       "0                             78932.012723  \n",
       "1                             78932.012723  \n",
       "2                             78932.012723  \n",
       "3                             78932.012723  \n",
       "4                             78932.012723  "
      ]
     },
     "execution_count": 80,
     "metadata": {},
     "output_type": "execute_result"
    }
   ],
   "source": [
    "#Cambio el nombre de todas las columnas para poder trabajar en mismos terminos\n",
    "\n",
    "#Para el dataset1:\n",
    "data1.columns=['Location ID','Location','Occupation ID','Occupation','Number of employees','AVG Salary for Each Occupation by Location']\n",
    "data1.head()\n",
    "#Para el dataset2:\n",
    "data2.columns=['Occupation ID','Occupation','AVG National Salary for Each Occupation']\n",
    "data2.head()\n",
    "\n",
    "#Uno los dos datasets en un único llamado 'df'\n",
    "df=pd.merge(data1,data2, on=['Occupation','Occupation ID']) #Los uno en Occupation y Occupation ID, ya que son los valores que tienen en común\n",
    "#Despliego el valor para visualizarlo\n",
    "df.head()"
   ]
  },
  {
   "cell_type": "markdown",
   "metadata": {},
   "source": [
    "Average Salaries by Location"
   ]
  },
  {
   "cell_type": "code",
   "execution_count": 81,
   "metadata": {},
   "outputs": [
    {
     "data": {
      "text/html": [
       "<div>\n",
       "<style scoped>\n",
       "    .dataframe tbody tr th:only-of-type {\n",
       "        vertical-align: middle;\n",
       "    }\n",
       "\n",
       "    .dataframe tbody tr th {\n",
       "        vertical-align: top;\n",
       "    }\n",
       "\n",
       "    .dataframe thead th {\n",
       "        text-align: right;\n",
       "    }\n",
       "</style>\n",
       "<table border=\"1\" class=\"dataframe\">\n",
       "  <thead>\n",
       "    <tr style=\"text-align: right;\">\n",
       "      <th></th>\n",
       "      <th>Location</th>\n",
       "      <th>AVG Salary by Location</th>\n",
       "    </tr>\n",
       "  </thead>\n",
       "  <tbody>\n",
       "    <tr>\n",
       "      <th>0</th>\n",
       "      <td>Aberdeen &amp; Havre de Grace Cities PUMA, MD</td>\n",
       "      <td>47793.452602</td>\n",
       "    </tr>\n",
       "    <tr>\n",
       "      <th>1</th>\n",
       "      <td>Acadia &amp; Vermilion Parishes PUMA, LA</td>\n",
       "      <td>36217.519325</td>\n",
       "    </tr>\n",
       "    <tr>\n",
       "      <th>2</th>\n",
       "      <td>Ada City PUMA, OK</td>\n",
       "      <td>30440.054794</td>\n",
       "    </tr>\n",
       "    <tr>\n",
       "      <th>3</th>\n",
       "      <td>Adams &amp; Franklin (Southeast) Counties PUMA, PA</td>\n",
       "      <td>40010.469563</td>\n",
       "    </tr>\n",
       "    <tr>\n",
       "      <th>4</th>\n",
       "      <td>Adams, Pike, Brown, Schuyler &amp; Mason Counties ...</td>\n",
       "      <td>38624.739842</td>\n",
       "    </tr>\n",
       "  </tbody>\n",
       "</table>\n",
       "</div>"
      ],
      "text/plain": [
       "                                            Location  AVG Salary by Location\n",
       "0          Aberdeen & Havre de Grace Cities PUMA, MD            47793.452602\n",
       "1               Acadia & Vermilion Parishes PUMA, LA            36217.519325\n",
       "2                                  Ada City PUMA, OK            30440.054794\n",
       "3     Adams & Franklin (Southeast) Counties PUMA, PA            40010.469563\n",
       "4  Adams, Pike, Brown, Schuyler & Mason Counties ...            38624.739842"
      ]
     },
     "execution_count": 81,
     "metadata": {},
     "output_type": "execute_result"
    }
   ],
   "source": [
    "#Agrupo por cada localización, y calculo el promedio del promedio de cada ocupación, luego cambio el nombre de la columna por 'Average salary by location' y finalmente reseteo los index\n",
    "AVG_BY_LOCATION=df.groupby('Location').agg({'AVG Salary for Each Occupation by Location':'mean'}).rename(columns={'AVG Salary for Each Occupation by Location':'AVG Salary by Location'}).reset_index()\n",
    "AVG_BY_LOCATION.head() #Despliego para visualziar y verificar datos"
   ]
  },
  {
   "cell_type": "markdown",
   "metadata": {},
   "source": [
    "Average Salaries for Each Occupation by Location"
   ]
  },
  {
   "cell_type": "code",
   "execution_count": 82,
   "metadata": {},
   "outputs": [
    {
     "data": {
      "text/html": [
       "<div>\n",
       "<style scoped>\n",
       "    .dataframe tbody tr th:only-of-type {\n",
       "        vertical-align: middle;\n",
       "    }\n",
       "\n",
       "    .dataframe tbody tr th {\n",
       "        vertical-align: top;\n",
       "    }\n",
       "\n",
       "    .dataframe thead th {\n",
       "        text-align: right;\n",
       "    }\n",
       "</style>\n",
       "<table border=\"1\" class=\"dataframe\">\n",
       "  <thead>\n",
       "    <tr style=\"text-align: right;\">\n",
       "      <th></th>\n",
       "      <th>Location</th>\n",
       "      <th>Occupation</th>\n",
       "      <th>AVG Salary for Each Occupation by Location</th>\n",
       "      <th>AVG National Salary for Each Occupation</th>\n",
       "    </tr>\n",
       "  </thead>\n",
       "  <tbody>\n",
       "    <tr>\n",
       "      <th>438944</th>\n",
       "      <td>Aberdeen &amp; Havre de Grace Cities PUMA, MD</td>\n",
       "      <td>Aerospace engineers</td>\n",
       "      <td>162095.513158</td>\n",
       "      <td>93327.564278</td>\n",
       "    </tr>\n",
       "    <tr>\n",
       "      <th>286563</th>\n",
       "      <td>Acadia &amp; Vermilion Parishes PUMA, LA</td>\n",
       "      <td>Data entry keyers</td>\n",
       "      <td>180331.267606</td>\n",
       "      <td>23049.434304</td>\n",
       "    </tr>\n",
       "    <tr>\n",
       "      <th>4467</th>\n",
       "      <td>Ada City PUMA, OK</td>\n",
       "      <td>Chief executives &amp; legislators</td>\n",
       "      <td>323841.389381</td>\n",
       "      <td>141283.836459</td>\n",
       "    </tr>\n",
       "    <tr>\n",
       "      <th>408564</th>\n",
       "      <td>Adams &amp; Franklin (Southeast) Counties PUMA, PA</td>\n",
       "      <td>Surgeons</td>\n",
       "      <td>492365.162791</td>\n",
       "      <td>282720.324022</td>\n",
       "    </tr>\n",
       "    <tr>\n",
       "      <th>137038</th>\n",
       "      <td>Adams, Pike, Brown, Schuyler &amp; Mason Counties ...</td>\n",
       "      <td>Physicians</td>\n",
       "      <td>389976.986175</td>\n",
       "      <td>206831.792909</td>\n",
       "    </tr>\n",
       "  </tbody>\n",
       "</table>\n",
       "</div>"
      ],
      "text/plain": [
       "                                                 Location  \\\n",
       "438944          Aberdeen & Havre de Grace Cities PUMA, MD   \n",
       "286563               Acadia & Vermilion Parishes PUMA, LA   \n",
       "4467                                    Ada City PUMA, OK   \n",
       "408564     Adams & Franklin (Southeast) Counties PUMA, PA   \n",
       "137038  Adams, Pike, Brown, Schuyler & Mason Counties ...   \n",
       "\n",
       "                            Occupation  \\\n",
       "438944             Aerospace engineers   \n",
       "286563               Data entry keyers   \n",
       "4467    Chief executives & legislators   \n",
       "408564                        Surgeons   \n",
       "137038                      Physicians   \n",
       "\n",
       "        AVG Salary for Each Occupation by Location  \\\n",
       "438944                               162095.513158   \n",
       "286563                               180331.267606   \n",
       "4467                                 323841.389381   \n",
       "408564                               492365.162791   \n",
       "137038                               389976.986175   \n",
       "\n",
       "        AVG National Salary for Each Occupation  \n",
       "438944                             93327.564278  \n",
       "286563                             23049.434304  \n",
       "4467                              141283.836459  \n",
       "408564                            282720.324022  \n",
       "137038                            206831.792909  "
      ]
     },
     "execution_count": 82,
     "metadata": {},
     "output_type": "execute_result"
    }
   ],
   "source": [
    "#Agrupo por localización los valores de df y luego me encargo de encontrar los id de los salarios máximos de cada ocupación, y los almaceno en 'H_S'\n",
    "H_S=df.groupby('Location')['AVG Salary for Each Occupation by Location'].idxmax() \n",
    "\n",
    "#Teniendo los id's de las ocupaciones con el salario más alto, ocupo los mismos id's para identificar a que ocupación está asignado\n",
    "HIGHEST_PAID_OCCUPATION=df[['Location','Occupation','AVG Salary for Each Occupation by Location','AVG National Salary for Each Occupation']].iloc[H_S]\n",
    "HIGHEST_PAID_OCCUPATION.head() #Despliego para visualizar y verificar los datos"
   ]
  },
  {
   "cell_type": "markdown",
   "metadata": {},
   "source": [
    "Here is the final DataFrame"
   ]
  },
  {
   "cell_type": "code",
   "execution_count": 83,
   "metadata": {},
   "outputs": [
    {
     "data": {
      "text/html": [
       "<div>\n",
       "<style scoped>\n",
       "    .dataframe tbody tr th:only-of-type {\n",
       "        vertical-align: middle;\n",
       "    }\n",
       "\n",
       "    .dataframe tbody tr th {\n",
       "        vertical-align: top;\n",
       "    }\n",
       "\n",
       "    .dataframe thead th {\n",
       "        text-align: right;\n",
       "    }\n",
       "</style>\n",
       "<table border=\"1\" class=\"dataframe\">\n",
       "  <thead>\n",
       "    <tr style=\"text-align: right;\">\n",
       "      <th></th>\n",
       "      <th>Location</th>\n",
       "      <th>Average Salary by Location</th>\n",
       "      <th>Occupation</th>\n",
       "      <th>Average Salary for Each Occupation by Location</th>\n",
       "      <th>Average National Salary for Each Occupation</th>\n",
       "    </tr>\n",
       "  </thead>\n",
       "  <tbody>\n",
       "    <tr>\n",
       "      <th>0</th>\n",
       "      <td>Inner Mission &amp; Castro PUMA, CA</td>\n",
       "      <td>96420.973134</td>\n",
       "      <td>Surgeons</td>\n",
       "      <td>572399.815668</td>\n",
       "      <td>282720.324022</td>\n",
       "    </tr>\n",
       "    <tr>\n",
       "      <th>1</th>\n",
       "      <td>Battery Park City, Greenwich Village &amp; Soho PU...</td>\n",
       "      <td>94839.246750</td>\n",
       "      <td>Dentists</td>\n",
       "      <td>668644.000000</td>\n",
       "      <td>127707.800538</td>\n",
       "    </tr>\n",
       "    <tr>\n",
       "      <th>2</th>\n",
       "      <td>Chelsea, Clinton &amp; Midtown Business District P...</td>\n",
       "      <td>91590.648998</td>\n",
       "      <td>Other financial specialists</td>\n",
       "      <td>668644.026490</td>\n",
       "      <td>98080.728621</td>\n",
       "    </tr>\n",
       "    <tr>\n",
       "      <th>3</th>\n",
       "      <td>Cupertino, Saratoga Cities &amp; Los Gatos Town PU...</td>\n",
       "      <td>85380.084584</td>\n",
       "      <td>Industrial production managers</td>\n",
       "      <td>572399.803279</td>\n",
       "      <td>77305.982431</td>\n",
       "    </tr>\n",
       "    <tr>\n",
       "      <th>4</th>\n",
       "      <td>Essex County (Northwest) PUMA, NJ</td>\n",
       "      <td>84129.644104</td>\n",
       "      <td>Insurance sales agents</td>\n",
       "      <td>645342.838710</td>\n",
       "      <td>53854.686494</td>\n",
       "    </tr>\n",
       "  </tbody>\n",
       "</table>\n",
       "</div>"
      ],
      "text/plain": [
       "                                            Location  \\\n",
       "0                    Inner Mission & Castro PUMA, CA   \n",
       "1  Battery Park City, Greenwich Village & Soho PU...   \n",
       "2  Chelsea, Clinton & Midtown Business District P...   \n",
       "3  Cupertino, Saratoga Cities & Los Gatos Town PU...   \n",
       "4                  Essex County (Northwest) PUMA, NJ   \n",
       "\n",
       "   Average Salary by Location                      Occupation  \\\n",
       "0                96420.973134                        Surgeons   \n",
       "1                94839.246750                        Dentists   \n",
       "2                91590.648998     Other financial specialists   \n",
       "3                85380.084584  Industrial production managers   \n",
       "4                84129.644104          Insurance sales agents   \n",
       "\n",
       "   Average Salary for Each Occupation by Location  \\\n",
       "0                                   572399.815668   \n",
       "1                                   668644.000000   \n",
       "2                                   668644.026490   \n",
       "3                                   572399.803279   \n",
       "4                                   645342.838710   \n",
       "\n",
       "   Average National Salary for Each Occupation  \n",
       "0                                282720.324022  \n",
       "1                                127707.800538  \n",
       "2                                 98080.728621  \n",
       "3                                 77305.982431  \n",
       "4                                 53854.686494  "
      ]
     },
     "execution_count": 83,
     "metadata": {},
     "output_type": "execute_result"
    }
   ],
   "source": [
    "new_file=pd.merge(HIGHEST_PAID_OCCUPATION,AVG_BY_LOCATION) #Unimos ambos \n",
    "new_file=new_file[['Location','AVG Salary by Location','Occupation','AVG Salary for Each Occupation by Location','AVG National Salary for Each Occupation']].sort_values('AVG Salary by Location',ascending=False).reset_index(drop=True)\n",
    "#Seleecionamos las columnas que nos sirven y las ponemos en el orden deseado. Ademas, los ordenamos por el promedio 'AVG Salary by Location'.\n",
    "\n",
    "#Cambio el nombre de las columnas pora mayor entendimiento\n",
    "new_file=new_file.rename(columns={'AVG Salary by Location': 'Average Salary by Location','AVG Salary for Each Occupation by Location':'Average Salary for Each Occupation by Location','AVG National Salary for Each Occupation':'Average National Salary for Each Occupation'})\n",
    "new_file.to_csv('Challenge.csv') #Guardo el df final en un archivo csv\n",
    "new_file.head()"
   ]
  },
  {
   "cell_type": "markdown",
   "metadata": {},
   "source": [
    "Data Visualization"
   ]
  },
  {
   "cell_type": "markdown",
   "metadata": {},
   "source": [
    "In the first graph, what I aim to show is which jobs are the most common highest-paying ones and make a comparison with their color coding to see if being the most common necessarily makes them the highest paid."
   ]
  },
  {
   "cell_type": "code",
   "execution_count": 84,
   "metadata": {},
   "outputs": [
    {
     "data": {
      "application/vnd.plotly.v1+json": {
       "config": {
        "plotlyServerURL": "https://plot.ly"
       },
       "data": [
        {
         "branchvalues": "total",
         "customdata": [
          [
           62325.81180323831
          ],
          [
           23837.018882976117
          ],
          [
           131082.8818200338
          ],
          [
           25777.913758536943
          ],
          [
           65180.52933783396
          ],
          [
           68524.37743676595
          ],
          [
           59021.975463194794
          ],
          [
           93327.5642780684
          ],
          [
           52365.18566942112
          ],
          [
           73129.95560560029
          ],
          [
           49816.739380129606
          ],
          [
           115613.87787785068
          ],
          [
           77911.62260282584
          ],
          [
           134098.2588754237
          ],
          [
           47426.37505773672
          ],
          [
           38222.123354721945
          ],
          [
           25804.65972662201
          ],
          [
           84055.70255182173
          ],
          [
           46411.686201251
          ],
          [
           72197.66650857519
          ],
          [
           61989.37370088788
          ],
          [
           32564.209274643224
          ],
          [
           30327.932121098645
          ],
          [
           18032.102304517404
          ],
          [
           30176.22288893494
          ],
          [
           59556.86879827084
          ],
          [
           41851.05012438324
          ],
          [
           78561.54284776543
          ],
          [
           29528.559522344254
          ],
          [
           26789.74188062917
          ],
          [
           41004.89901249011
          ],
          [
           47494.13361466179
          ],
          [
           69666.63007916698
          ],
          [
           38950.83047134692
          ],
          [
           31058.899701309867
          ],
          [
           60104.46884870296
          ],
          [
           48470.9709357977
          ],
          [
           24205.928871671804
          ],
          [
           76805.666221549
          ],
          [
           29219.94375219718
          ],
          [
           28945.322882471555
          ],
          [
           95707.39540394994
          ],
          [
           46327.94100067397
          ],
          [
           45774.816572836535
          ],
          [
           71654.08234075189
          ],
          [
           141283.83645852594
          ],
          [
           40268.08144283756
          ],
          [
           58929.317817604286
          ],
          [
           78192.060073669
          ],
          [
           50551.26477380682
          ],
          [
           16482.65136833201
          ],
          [
           37242.277296257234
          ],
          [
           51778.568506249576
          ],
          [
           40537.11193698079
          ],
          [
           23108.58017214645
          ],
          [
           64670.474974791454
          ],
          [
           36114.60724000583
          ],
          [
           78976.88495217955
          ],
          [
           68567.09218929497
          ],
          [
           102527.27215764132
          ],
          [
           94807.30005530168
          ],
          [
           91131.80557198216
          ],
          [
           95432.99220300168
          ],
          [
           66101.74828543983
          ],
          [
           77866.92885289535
          ],
          [
           55567.94486305866
          ],
          [
           77237.25612018259
          ],
          [
           34111.81459847549
          ],
          [
           43128.22957442338
          ],
          [
           61965.46836887661
          ],
          [
           35594.34562280398
          ],
          [
           44429.20154510544
          ],
          [
           25475.875527645385
          ],
          [
           58963.60741807346
          ],
          [
           29336.140976319868
          ],
          [
           21224.121135503043
          ],
          [
           25455.23543415416
          ],
          [
           41302.23245893465
          ],
          [
           32206.02630147211
          ],
          [
           52157.03533231164
          ],
          [
           65046.29732411437
          ],
          [
           67871.33144378143
          ],
          [
           34218.989315813145
          ],
          [
           22268.389580156098
          ],
          [
           23049.434303642476
          ],
          [
           79421.41349617914
          ],
          [
           25885.726746630076
          ],
          [
           45805.26850247612
          ],
          [
           127707.80053807772
          ],
          [
           59379.22345456758
          ],
          [
           69472.63203857554
          ],
          [
           73862.48732493505
          ],
          [
           23782.07830903161
          ],
          [
           39096.582625035946
          ],
          [
           9084.450009043796
          ],
          [
           35634.46485871115
          ],
          [
           12001.064758249571
          ],
          [
           114682.51872642573
          ],
          [
           42043.86066368738
          ],
          [
           61611.01116745079
          ],
          [
           42271.27930216287
          ],
          [
           86776.8579969871
          ],
          [
           53540.34918912635
          ],
          [
           65493.39119757196
          ],
          [
           43910.5889145085
          ],
          [
           38127.327691325496
          ],
          [
           18197.389689497715
          ],
          [
           61993.09140205178
          ],
          [
           32942.22322574207
          ],
          [
           20966.251639698374
          ],
          [
           49636.58347605184
          ],
          [
           71953.92582655714
          ],
          [
           65728.77726596073
          ],
          [
           51300.14741045749
          ],
          [
           18557.758449173725
          ],
          [
           63234.3637466893
          ],
          [
           20768.158865386376
          ],
          [
           19711.50749764744
          ],
          [
           99633.71762472302
          ],
          [
           84243.87504905622
          ],
          [
           92038.95558870002
          ],
          [
           50797.66099089327
          ],
          [
           60741.10529640623
          ],
          [
           52835.460961295445
          ],
          [
           49417.46122027499
          ],
          [
           36521.10992419021
          ],
          [
           79095.65843796109
          ],
          [
           23221.954729882902
          ],
          [
           30437.467101766862
          ],
          [
           30445.472644406233
          ],
          [
           55421.74534635546
          ],
          [
           70776.29211066732
          ],
          [
           47745.36143510247
          ],
          [
           72515.40418093909
          ],
          [
           52761.15422880403
          ],
          [
           41477.25663697701
          ],
          [
           19378.37092044049
          ],
          [
           28033.734583450947
          ],
          [
           14832.075398137817
          ],
          [
           24743.122995512807
          ],
          [
           52283.03605469805
          ],
          [
           35140.39154910472
          ],
          [
           78932.01272296738
          ],
          [
           61372.75083753752
          ],
          [
           87151.5303347076
          ],
          [
           34496.47018491756
          ],
          [
           14749.237876642408
          ],
          [
           38353.11703256923
          ],
          [
           29674.267250882865
          ],
          [
           40489.77443785951
          ],
          [
           24128.41562454649
          ],
          [
           38378.79207938513
          ],
          [
           44733.34179050102
          ],
          [
           17466.60141660227
          ],
          [
           33178.85776041633
          ],
          [
           27654.70463368473
          ],
          [
           17849.767202998682
          ],
          [
           7298.707426565948
          ],
          [
           34415.54164961781
          ],
          [
           72391.03540336741
          ],
          [
           57666.48193707906
          ],
          [
           44134.840626734825
          ],
          [
           72963.74519021867
          ],
          [
           77305.98243070339
          ],
          [
           28316.51640626329
          ],
          [
           99255.28312032484
          ],
          [
           35233.93772157667
          ],
          [
           35227.90167829536
          ],
          [
           53854.68649385349
          ],
          [
           65638.00450135449
          ],
          [
           36057.52256948615
          ],
          [
           24839.23264750008
          ],
          [
           21861.84183990398
          ],
          [
           18652.591724538102
          ],
          [
           22002.90098277413
          ],
          [
           45501.206595896656
          ],
          [
           52836.31464534281
          ],
          [
           15733.041414996618
          ],
          [
           124478.50814810928
          ],
          [
           51851.69868932738
          ],
          [
           38743.72834992776
          ],
          [
           31387.677482973708
          ],
          [
           41311.80037528319
          ],
          [
           69242.97227760029
          ],
          [
           44643.67056716537
          ],
          [
           20549.95076797113
          ],
          [
           51396.85651046584
          ],
          [
           100650.60025262598
          ],
          [
           42789.54914546744
          ],
          [
           71424.88393523055
          ],
          [
           16111.591951102404
          ],
          [
           67737.87609580542
          ],
          [
           84553.35115257063
          ],
          [
           75692.34374789787
          ],
          [
           77923.2754670551
          ],
          [
           45738.47699453552
          ],
          [
           74643.1976723827
          ],
          [
           36712.26768026895
          ],
          [
           79977.46222023785
          ],
          [
           29478.17755637593
          ],
          [
           36565.28803457047
          ],
          [
           38444.34215087046
          ],
          [
           42402.01984131153
          ],
          [
           50292.34811300116
          ],
          [
           55304.079102988384
          ],
          [
           16628.22510331464
          ],
          [
           35919.69688191546
          ],
          [
           86422.79194750793
          ],
          [
           46908.093319714535
          ],
          [
           56702.29217997607
          ],
          [
           40881.49083530776
          ],
          [
           31240.44343356784
          ],
          [
           31943.50142127496
          ],
          [
           78440.25824818271
          ],
          [
           31441.368054438903
          ],
          [
           33074.02633459529
          ],
          [
           47658.99585933047
          ],
          [
           36419.37091583332
          ],
          [
           21057.875554873684
          ],
          [
           12089.157200194966
          ],
          [
           45458.09118281886
          ],
          [
           34240.47854996907
          ],
          [
           16029.08324698749
          ],
          [
           87041.6083510504
          ],
          [
           70080.64245976007
          ],
          [
           41055.12144860946
          ],
          [
           55210.178798093686
          ],
          [
           12892.923146844189
          ],
          [
           132946.1370184876
          ],
          [
           137847.88905761446
          ],
          [
           87225.35349109002
          ],
          [
           57535.97015304272
          ],
          [
           55173.350408930695
          ],
          [
           72711.06132234662
          ],
          [
           91038.6455644665
          ],
          [
           25306.18528302336
          ],
          [
           73811.74773838854
          ],
          [
           46439.11797243441
          ],
          [
           28336.098475104645
          ],
          [
           33783.57118618442
          ],
          [
           53254.28081265958
          ],
          [
           46485.453612793
          ],
          [
           37658.63625455013
          ],
          [
           50386.275107003865
          ],
          [
           76459.69278730197
          ],
          [
           98080.72862112064
          ],
          [
           21836.04791224345
          ],
          [
           50832.997136739934
          ],
          [
           27589.80015808264
          ],
          [
           81551.87862464933
          ],
          [
           53563.49249437002
          ],
          [
           27488.37442010176
          ],
          [
           36901.664170625954
          ],
          [
           32045.102034612293
          ],
          [
           52015.679790635775
          ],
          [
           31610.204685323344
          ],
          [
           35663.60141114026
          ],
          [
           13793.519217580752
          ],
          [
           17215.14524964851
          ],
          [
           110943.36940078795
          ],
          [
           121965.87102455912
          ],
          [
           88632.34688145593
          ],
          [
           26736.33731428137
          ],
          [
           26957.903027151304
          ],
          [
           25624.92292170621
          ],
          [
           18706.69295753645
          ],
          [
           30965.833870049184
          ],
          [
           62904.28474109715
          ],
          [
           92251.10058815022
          ],
          [
           206831.79290917717
          ],
          [
           42543.59074856914
          ],
          [
           42818.8588668122
          ],
          [
           112776.64908379482
          ],
          [
           39043.04188390946
          ],
          [
           40916.01652746223
          ],
          [
           49991.3293453298
          ],
          [
           77072.03539917499
          ],
          [
           39830.83843111634
          ],
          [
           28606.185665592537
          ],
          [
           16193.32000426246
          ],
          [
           29290.655845659767
          ],
          [
           49400.32033046294
          ],
          [
           54550.11160513914
          ],
          [
           65061.10863708074
          ],
          [
           43460.926789749006
          ],
          [
           85846.81864248517
          ],
          [
           48461.502698798846
          ],
          [
           50731.530055109695
          ],
          [
           28564.15312128976
          ],
          [
           74606.32962434617
          ],
          [
           65890.44220114923
          ],
          [
           39323.02896738144
          ],
          [
           52067.00708327911
          ],
          [
           74013.09656763387
          ],
          [
           44276.66890565007
          ],
          [
           56736.64149052558
          ],
          [
           45811.17066281983
          ],
          [
           43001.75341421511
          ],
          [
           14309.727258727167
          ],
          [
           22188.50703081367
          ],
          [
           33710.41897704174
          ],
          [
           51020.96436409806
          ],
          [
           40344.35734232715
          ],
          [
           40118.08176109504
          ],
          [
           108780.47602985431
          ],
          [
           106611.873312147
          ],
          [
           75405.68465396445
          ],
          [
           67929.48572119647
          ],
          [
           44453.7424627428
          ],
          [
           116457.02855852002
          ],
          [
           17269.500289562806
          ],
          [
           35902.77781309052
          ],
          [
           58756.26745002127
          ],
          [
           25653.37673230873
          ],
          [
           20707.831104655925
          ],
          [
           20858.655397823222
          ],
          [
           53910.81155826022
          ],
          [
           30698.30014742825
          ],
          [
           42459.290731701134
          ],
          [
           105223.46968687043
          ],
          [
           67147.49640006834
          ],
          [
           39431.04420467718
          ],
          [
           50207.30577175528
          ],
          [
           52943.04697941828
          ],
          [
           41597.72428036212
          ],
          [
           47802.9807478361
          ],
          [
           30029.72070930067
          ],
          [
           46180.44061832814
          ],
          [
           46333.96708760852
          ],
          [
           282720.32402206364
          ],
          [
           43286.84426099381
          ],
          [
           49595.98174533926
          ],
          [
           21808.571338329948
          ],
          [
           15983.401820326637
          ],
          [
           47345.32916778644
          ],
          [
           29580.191946286614
          ],
          [
           17811.086020843995
          ],
          [
           56772.363575088
          ],
          [
           14505.106969376626
          ],
          [
           38307.65295374869
          ],
          [
           19795.10948127888
          ],
          [
           48875.86334200142
          ],
          [
           47066.67801894364
          ],
          [
           66052.19979468547
          ],
          [
           51927.48752447238
          ],
          [
           49656.38642631887
          ],
          [
           53695.69069794224
          ],
          [
           29475.76372948768
          ],
          [
           7886.36983348715
          ],
          [
           63264.65459091392
          ],
          [
           84868.11662911795
          ],
          [
           50938.46175184039
          ],
          [
           30412.053429529173
          ],
          [
           35513.337744243305
          ],
          [
           34179.94080459817
          ],
          [
           23422.143117200358
          ],
          [
           35383.70536572448
          ]
         ],
         "domain": {
          "x": [
           0,
           1
          ],
          "y": [
           0,
           1
          ]
         },
         "hovertemplate": "labels=%{label}<br>Total=%{value}<br>parent=%{parent}<br>id=%{id}<br>Average National Salary for Each Occupation=%{color}<extra></extra>",
         "ids": [
          "Accountants & auditors",
          "Actors",
          "Actuaries",
          "Adhesive bonding machine operators & tenders",
          "Administrative services managers",
          "Advertising & promotions managers",
          "Advertising sales agents",
          "Aerospace engineers",
          "Agents & business managers of artists, performers, & athletes",
          "Air traffic controllers & airfield operations specialists",
          "Aircraft mechanics & service technicians",
          "Aircraft pilots & flight engineers",
          "Architects, except landscape and naval",
          "Architectural & engineering managers",
          "Architectural and civil drafters",
          "Archivists, curators, & museum technicians",
          "Artists & related workers",
          "Astronomers & physicists",
          "Athletes and sports competitors",
          "Atmospheric & space scientists",
          "Audiologists",
          "Automotive body & related repairers",
          "Automotive service technicians & mechanics",
          "Bakers",
          "Billing & posting clerks",
          "Biological scientists",
          "Biological technicians",
          "Biomedical & agricultural engineers",
          "Bookkeeping, accounting, & auditing clerks",
          "Brickmasons, blockmasons, stonemasons, & reinforcing iron & rebar workers",
          "Broadcast & sound engineering technicians & radio operators, & media & communication equipment workers, all other",
          "Broadcast announcers and radio disc jockeys",
          "Budget analysts",
          "Bus & truck mechanics & diesel engine specialists",
          "Bus drivers, transit and intercity",
          "Business operations specialists, all other",
          "Buyers & purchasing agents, farm products",
          "Cabinetmakers & bench carpenters",
          "Cardiovascular technologists and technicians",
          "Cement masons, concrete finishers, & terrazzo workers",
          "Chefs & head cooks",
          "Chemical engineers",
          "Chemical processing machine setters, operators, & tenders",
          "Chemical technicians",
          "Chemists & materials scientists",
          "Chief executives & legislators",
          "Child, family, and school social workers",
          "Chiropractors",
          "Civil engineers",
          "Claims adjusters, appraisers, examiners, & investigators",
          "Cleaners of vehicles & equipment",
          "Clergy",
          "Clinical and counseling psychologists",
          "Clinical laboratory technologists & technicians",
          "Coaches and scouts",
          "Commercial and industrial designers",
          "Communications equipment operators, all other",
          "Compensation & benefits managers",
          "Compliance officers",
          "Computer & information systems managers",
          "Computer and information research scientists",
          "Computer hardware engineers",
          "Computer network architects",
          "Computer occupations, all other",
          "Computer programmers",
          "Computer support specialists",
          "Computer systems analysts",
          "Computer, automated teller, & office machine repairers",
          "Construction & building inspectors",
          "Construction managers",
          "Conveyor operators & tenders, & hoist & winch operators",
          "Correctional officers and jailers",
          "Correspondence clerks & order clerks",
          "Cost estimators",
          "Counselors, all other",
          "Counter & rental clerks",
          "Couriers & messengers",
          "Court reporters and simultaneous captioners",
          "Court, municipal, & license clerks",
          "Crane & tower operators",
          "Credit analysts",
          "Credit counselors & loan officers",
          "Crushing, grinding, polishing, mixing, & blending workers",
          "Cutting workers",
          "Data entry keyers",
          "Database administrators and architects",
          "Dental assistants",
          "Dental hygienists",
          "Dentists",
          "Derrick, rotary drill, & service unit operators, & roustabouts, oil, gas, & mining",
          "Detectives & criminal investigators",
          "Diagnostic medical sonographers",
          "Dietetic technicians and ophthalmic medical technicians",
          "Dietitians & nutritionists",
          "Dishwashers",
          "Dispatchers, except police, fire, and ambulance",
          "Doortodoor sales workers, news & street vendors, & related workers",
          "Economists",
          "Editors",
          "Education administrators",
          "Educational, guidance, and career counselors and advisors",
          "Electrical & electronics engineers",
          "Electrical and electronic engineering technologists and technicians",
          "Electrical powerline installers & repairers",
          "Electricians",
          "Eligibility interviewers, government programs",
          "Embalmers & funeral attendants",
          "Emergency management directors",
          "Emergency medical technicians",
          "Entertainers & performers, sports & related workers, all other",
          "Entertainment and recreation managers",
          "Environmental engineers",
          "Environmental scientists and specialists, including health",
          "Executive secretaries and executive administrative assistants",
          "Exercise trainers and group fitness instructors",
          "Facilities managers",
          "Farmers, ranchers, & other agricultural managers",
          "File clerks",
          "Financial analysts",
          "Financial examiners",
          "Financial managers",
          "Fire inspectors",
          "Firefighters",
          "Firstline supervisors of construction trades & extraction workers",
          "Firstline supervisors of correctional officers",
          "Firstline supervisors of farming, fishing, & forestry workers",
          "Firstline supervisors of fire fighting & prevention workers",
          "Firstline supervisors of food preparation & serving workers",
          "Firstline supervisors of housekeeping & janitorial workers",
          "Firstline supervisors of landscaping, lawn service, & groundskeeping workers",
          "Firstline supervisors of mechanics, installers, & repairers",
          "Firstline supervisors of nonretail sales workers",
          "Firstline supervisors of office & administrative support workers",
          "Firstline supervisors of police & detectives",
          "Firstline supervisors of production & operating workers",
          "Flight attendants",
          "Floral designers",
          "Food processing workers, all other",
          "Food servers, nonrestaurant",
          "Forest & conservation workers",
          "Fundraisers",
          "Furnace, kiln, oven, drier, & kettle operators & tenders",
          "General & operations managers",
          "Geological & petroleum technicians, & nuclear technicians",
          "Geoscientists and hydrologists, except geographers",
          "Glaziers",
          "Graders & sorters, agricultural products",
          "Graphic designers",
          "Grinding, lapping, polishing, and buffing machine tool setters, operators, and tenders, metal and plastic",
          "Healthcare social workers",
          "Healthcare support workers, all other, including medical equipment preparers",
          "Heating, air conditioning, & refrigeration mechanics & installers",
          "Heavy vehicle & mobile equipment service technicians & mechanics",
          "Helpersproduction workers",
          "Highway maintenance workers",
          "Home appliance repairers",
          "Home health aides",
          "Hosts & hostesses, restaurant, lounge, & coffee shop",
          "Human resources assistants, except payroll & timekeeping",
          "Human resources managers",
          "Human resources workers",
          "Industrial & refractory machinery mechanics",
          "Industrial engineers, including health & safety",
          "Industrial production managers",
          "Industrial truck & tractor operators",
          "Information security analysts",
          "Inspectors, testers, sorters, samplers, & weighers",
          "Insurance claims & policy processing clerks",
          "Insurance sales agents",
          "Insurance underwriters",
          "Interior designers",
          "Interpreters and translators",
          "Interviewers, except eligibility & loan",
          "Janitors & building cleaners",
          "Jewelers & precious stone & metal workers",
          "Judicial law clerks",
          "Landscape architects",
          "Landscaping and groundskeeping workers",
          "Lawyers, & judges, magistrates, & other judicial workers",
          "Legal support workers, all other",
          "Librarians and media collections specialists",
          "Licensed practical & licensed vocational nurses",
          "Loan interviewers & clerks",
          "Locomotive engineers & operators",
          "Lodging managers",
          "Logging workers",
          "Logisticians",
          "Magnetic resonance imaging technologists",
          "Maintenance workers, machinery",
          "Management analysts",
          "Manicurists and pedicurists",
          "Market research analysts & marketing specialists",
          "Marketing managers",
          "Materials engineers",
          "Mechanical engineers",
          "Media and communication workers, all other",
          "Medical & health services managers",
          "Medical records specialists",
          "Medical scientists, & life scientists, all other",
          "Medical secretaries and administrative assistants",
          "Meeting, convention, & event planners",
          "Metal furnace operators, tenders, pourers, & casters",
          "Military, rank not specified",
          "Millwrights",
          "Mining machine operators",
          "Miscellaneous agricultural workers, including animal breeders",
          "Miscellaneous community & social service specialists, including health educators & community health workers",
          "Miscellaneous engineers, including nuclear engineers",
          "Miscellaneous extraction workers, including roof bolters & helpers",
          "Miscellaneous first-line supervisors, protective service workers",
          "Miscellaneous health technologists & technicians",
          "Miscellaneous installation, maintenance, & repair workers, including wind turbine service technicians",
          "Miscellaneous material moving workers, including mine shuttle car operators, & tank car, truck, & ship loaders",
          "Miscellaneous mathematical science occupations, including mathematicians & statisticians",
          "Miscellaneous metal workers & plastic workers, including multiple machine tool setters",
          "Miscellaneous office & administrative support workers, including desktop publishers",
          "Miscellaneous social scientists, including survey researchers & sociologists",
          "Miscellaneous transportation workers, including bridge & lock tenders & traffic technicians",
          "Miscellaneous woodworkers, including model makers & patternmakers",
          "Models, demonstrators, & product promoters",
          "Morticians, undertakers, & funeral directors",
          "Music directors and composers",
          "Musicians and singers",
          "Natural sciences managers",
          "Network and computer systems administrators",
          "New accounts clerks",
          "News analysts, reporters, and journalists",
          "Nonfarm animal caretakers",
          "Nuclear medicine technologists and medical dosimetrists",
          "Nurse anesthetists",
          "Nurse practitioners & nurse midwives",
          "Occupational health and safety specialists and technicians",
          "Occupational therapists",
          "Operations research analysts",
          "Optometrists",
          "Orderlies and psychiatric aides",
          "Other Physical Scientists",
          "Other Sales Workers",
          "Other assemblers and fabricators",
          "Other construction and related workers",
          "Other designers",
          "Other drafters",
          "Other education, training, & library workers",
          "Other engineering technologists and technicians, except drafters",
          "Other financial clerks",
          "Other financial specialists",
          "Other grounds maintenance workers",
          "Other healthcare practitioners & technical Occupations",
          "Other information and records clerks",
          "Other managers",
          "Other psychologists",
          "Other teachers and instructors",
          "Other therapists, including exercise physiologists",
          "Painting workers",
          "Paramedics",
          "Parts salespersons",
          "Payroll & timekeeping clerks",
          "Personal care & service workers, all other ",
          "Personal care aides",
          "Personal financial advisors",
          "Petroleum, mining & geological engineers, including mining safety engineers",
          "Pharmacists",
          "Pharmacy aides",
          "Pharmacy technicians",
          "Phlebotomists",
          "Photographers",
          "Photographic process workers & processing machine operators",
          "Physical therapists",
          "Physician assistants",
          "Physicians",
          "Pipelayers",
          "Plumbers, pipefitters, and steamfitters",
          "Podiatrists",
          "Postal service clerks",
          "Postal service mail carriers",
          "Postsecondary teachers",
          "Power plant operators, distributors, & dispatchers",
          "Precision instrument & equipment repairers",
          "Prepress technicians & workers",
          "Pressers, textile, garment, & related materials",
          "Printing press operators",
          "Private detectives & investigators",
          "Procurement clerks",
          "Producers & directors",
          "Production, planning, & expediting clerks",
          "Project management specialists",
          "Property appraisers and assessors",
          "Property, real estate, & community association managers",
          "Psychiatric technicians",
          "Public relations and fundraising managers",
          "Public relations specialists",
          "Public safety telecommunicators",
          "Purchasing agents, except wholesale, retail, & farm products",
          "Purchasing managers",
          "Radio & telecommunications equipment installers & repairers",
          "Radiologic technologists and technicians",
          "Railtrack laying & maintenance equipment operators",
          "Real estate brokers & sales agents",
          "Recreation workers",
          "Refuse & recyclable material collectors",
          "Reservation & transportation ticket agents & travel clerks",
          "Respiratory therapists",
          "Riggers",
          "Sailors & marine oilers, & ship engineers",
          "Sales engineers",
          "Sales managers",
          "Sales representatives of services, except advertising, insurance, financial services, and travel",
          "Sales representatives, wholesale & manufacturing",
          "Secondary school teachers",
          "Securities, commodities, & financial services sales agents",
          "Sewing machine operators",
          "Sheet metal workers",
          "Ship & boat captains & operators",
          "Shipping, receiving, & traffic clerks",
          "Shuttle drivers and chauffeurs",
          "Skincare specialists",
          "Social & community service managers",
          "Social & human service assistants",
          "Social workers, all other",
          "Software developers",
          "Software quality assurance analysts and testers",
          "Special education teachers",
          "Speechlanguage pathologists",
          "Stationary engineers & boiler operators",
          "Structural iron & steel workers",
          "Subway, streetcar, & other rail transportation workers",
          "Supervisors of personal care and service workers",
          "Supervisors of transportation & material moving workers",
          "Surface mining machine operators and earth drillers",
          "Surgeons",
          "Surgical technologists",
          "Surveyors, cartographers, & photogrammetrists",
          "Switchboard operators, including answering service",
          "Tailors, dressmakers, & sewers",
          "Tax examiners & collectors, & revenue agents",
          "Tax preparers",
          "Teaching assistants",
          "Technical writers",
          "Telemarketers",
          "Television, video, & motion picture camera operators & editors",
          "Tellers",
          "Title examiners, abstractors, and searchers",
          "Tool & die makers",
          "Training & development managers",
          "Training & development specialists",
          "Transportation inspectors",
          "Transportation, storage, & distribution managers",
          "Travel agents",
          "Tutors",
          "Urban & regional planners",
          "Veterinarians",
          "Web developers",
          "Weighers, measurers, checkers, & samplers, recordkeeping",
          "Welding, soldering, & brazing workers",
          "Wholesale & retail buyers, except farm products",
          "Word processors & typists",
          "Writers & authors"
         ],
         "labels": [
          "Accountants & auditors",
          "Actors",
          "Actuaries",
          "Adhesive bonding machine operators & tenders",
          "Administrative services managers",
          "Advertising & promotions managers",
          "Advertising sales agents",
          "Aerospace engineers",
          "Agents & business managers of artists, performers, & athletes",
          "Air traffic controllers & airfield operations specialists",
          "Aircraft mechanics & service technicians",
          "Aircraft pilots & flight engineers",
          "Architects, except landscape and naval",
          "Architectural & engineering managers",
          "Architectural and civil drafters",
          "Archivists, curators, & museum technicians",
          "Artists & related workers",
          "Astronomers & physicists",
          "Athletes and sports competitors",
          "Atmospheric & space scientists",
          "Audiologists",
          "Automotive body & related repairers",
          "Automotive service technicians & mechanics",
          "Bakers",
          "Billing & posting clerks",
          "Biological scientists",
          "Biological technicians",
          "Biomedical & agricultural engineers",
          "Bookkeeping, accounting, & auditing clerks",
          "Brickmasons, blockmasons, stonemasons, & reinforcing iron & rebar workers",
          "Broadcast & sound engineering technicians & radio operators, & media & communication equipment workers, all other",
          "Broadcast announcers and radio disc jockeys",
          "Budget analysts",
          "Bus & truck mechanics & diesel engine specialists",
          "Bus drivers, transit and intercity",
          "Business operations specialists, all other",
          "Buyers & purchasing agents, farm products",
          "Cabinetmakers & bench carpenters",
          "Cardiovascular technologists and technicians",
          "Cement masons, concrete finishers, & terrazzo workers",
          "Chefs & head cooks",
          "Chemical engineers",
          "Chemical processing machine setters, operators, & tenders",
          "Chemical technicians",
          "Chemists & materials scientists",
          "Chief executives & legislators",
          "Child, family, and school social workers",
          "Chiropractors",
          "Civil engineers",
          "Claims adjusters, appraisers, examiners, & investigators",
          "Cleaners of vehicles & equipment",
          "Clergy",
          "Clinical and counseling psychologists",
          "Clinical laboratory technologists & technicians",
          "Coaches and scouts",
          "Commercial and industrial designers",
          "Communications equipment operators, all other",
          "Compensation & benefits managers",
          "Compliance officers",
          "Computer & information systems managers",
          "Computer and information research scientists",
          "Computer hardware engineers",
          "Computer network architects",
          "Computer occupations, all other",
          "Computer programmers",
          "Computer support specialists",
          "Computer systems analysts",
          "Computer, automated teller, & office machine repairers",
          "Construction & building inspectors",
          "Construction managers",
          "Conveyor operators & tenders, & hoist & winch operators",
          "Correctional officers and jailers",
          "Correspondence clerks & order clerks",
          "Cost estimators",
          "Counselors, all other",
          "Counter & rental clerks",
          "Couriers & messengers",
          "Court reporters and simultaneous captioners",
          "Court, municipal, & license clerks",
          "Crane & tower operators",
          "Credit analysts",
          "Credit counselors & loan officers",
          "Crushing, grinding, polishing, mixing, & blending workers",
          "Cutting workers",
          "Data entry keyers",
          "Database administrators and architects",
          "Dental assistants",
          "Dental hygienists",
          "Dentists",
          "Derrick, rotary drill, & service unit operators, & roustabouts, oil, gas, & mining",
          "Detectives & criminal investigators",
          "Diagnostic medical sonographers",
          "Dietetic technicians and ophthalmic medical technicians",
          "Dietitians & nutritionists",
          "Dishwashers",
          "Dispatchers, except police, fire, and ambulance",
          "Doortodoor sales workers, news & street vendors, & related workers",
          "Economists",
          "Editors",
          "Education administrators",
          "Educational, guidance, and career counselors and advisors",
          "Electrical & electronics engineers",
          "Electrical and electronic engineering technologists and technicians",
          "Electrical powerline installers & repairers",
          "Electricians",
          "Eligibility interviewers, government programs",
          "Embalmers & funeral attendants",
          "Emergency management directors",
          "Emergency medical technicians",
          "Entertainers & performers, sports & related workers, all other",
          "Entertainment and recreation managers",
          "Environmental engineers",
          "Environmental scientists and specialists, including health",
          "Executive secretaries and executive administrative assistants",
          "Exercise trainers and group fitness instructors",
          "Facilities managers",
          "Farmers, ranchers, & other agricultural managers",
          "File clerks",
          "Financial analysts",
          "Financial examiners",
          "Financial managers",
          "Fire inspectors",
          "Firefighters",
          "Firstline supervisors of construction trades & extraction workers",
          "Firstline supervisors of correctional officers",
          "Firstline supervisors of farming, fishing, & forestry workers",
          "Firstline supervisors of fire fighting & prevention workers",
          "Firstline supervisors of food preparation & serving workers",
          "Firstline supervisors of housekeeping & janitorial workers",
          "Firstline supervisors of landscaping, lawn service, & groundskeeping workers",
          "Firstline supervisors of mechanics, installers, & repairers",
          "Firstline supervisors of nonretail sales workers",
          "Firstline supervisors of office & administrative support workers",
          "Firstline supervisors of police & detectives",
          "Firstline supervisors of production & operating workers",
          "Flight attendants",
          "Floral designers",
          "Food processing workers, all other",
          "Food servers, nonrestaurant",
          "Forest & conservation workers",
          "Fundraisers",
          "Furnace, kiln, oven, drier, & kettle operators & tenders",
          "General & operations managers",
          "Geological & petroleum technicians, & nuclear technicians",
          "Geoscientists and hydrologists, except geographers",
          "Glaziers",
          "Graders & sorters, agricultural products",
          "Graphic designers",
          "Grinding, lapping, polishing, and buffing machine tool setters, operators, and tenders, metal and plastic",
          "Healthcare social workers",
          "Healthcare support workers, all other, including medical equipment preparers",
          "Heating, air conditioning, & refrigeration mechanics & installers",
          "Heavy vehicle & mobile equipment service technicians & mechanics",
          "Helpersproduction workers",
          "Highway maintenance workers",
          "Home appliance repairers",
          "Home health aides",
          "Hosts & hostesses, restaurant, lounge, & coffee shop",
          "Human resources assistants, except payroll & timekeeping",
          "Human resources managers",
          "Human resources workers",
          "Industrial & refractory machinery mechanics",
          "Industrial engineers, including health & safety",
          "Industrial production managers",
          "Industrial truck & tractor operators",
          "Information security analysts",
          "Inspectors, testers, sorters, samplers, & weighers",
          "Insurance claims & policy processing clerks",
          "Insurance sales agents",
          "Insurance underwriters",
          "Interior designers",
          "Interpreters and translators",
          "Interviewers, except eligibility & loan",
          "Janitors & building cleaners",
          "Jewelers & precious stone & metal workers",
          "Judicial law clerks",
          "Landscape architects",
          "Landscaping and groundskeeping workers",
          "Lawyers, & judges, magistrates, & other judicial workers",
          "Legal support workers, all other",
          "Librarians and media collections specialists",
          "Licensed practical & licensed vocational nurses",
          "Loan interviewers & clerks",
          "Locomotive engineers & operators",
          "Lodging managers",
          "Logging workers",
          "Logisticians",
          "Magnetic resonance imaging technologists",
          "Maintenance workers, machinery",
          "Management analysts",
          "Manicurists and pedicurists",
          "Market research analysts & marketing specialists",
          "Marketing managers",
          "Materials engineers",
          "Mechanical engineers",
          "Media and communication workers, all other",
          "Medical & health services managers",
          "Medical records specialists",
          "Medical scientists, & life scientists, all other",
          "Medical secretaries and administrative assistants",
          "Meeting, convention, & event planners",
          "Metal furnace operators, tenders, pourers, & casters",
          "Military, rank not specified",
          "Millwrights",
          "Mining machine operators",
          "Miscellaneous agricultural workers, including animal breeders",
          "Miscellaneous community & social service specialists, including health educators & community health workers",
          "Miscellaneous engineers, including nuclear engineers",
          "Miscellaneous extraction workers, including roof bolters & helpers",
          "Miscellaneous first-line supervisors, protective service workers",
          "Miscellaneous health technologists & technicians",
          "Miscellaneous installation, maintenance, & repair workers, including wind turbine service technicians",
          "Miscellaneous material moving workers, including mine shuttle car operators, & tank car, truck, & ship loaders",
          "Miscellaneous mathematical science occupations, including mathematicians & statisticians",
          "Miscellaneous metal workers & plastic workers, including multiple machine tool setters",
          "Miscellaneous office & administrative support workers, including desktop publishers",
          "Miscellaneous social scientists, including survey researchers & sociologists",
          "Miscellaneous transportation workers, including bridge & lock tenders & traffic technicians",
          "Miscellaneous woodworkers, including model makers & patternmakers",
          "Models, demonstrators, & product promoters",
          "Morticians, undertakers, & funeral directors",
          "Music directors and composers",
          "Musicians and singers",
          "Natural sciences managers",
          "Network and computer systems administrators",
          "New accounts clerks",
          "News analysts, reporters, and journalists",
          "Nonfarm animal caretakers",
          "Nuclear medicine technologists and medical dosimetrists",
          "Nurse anesthetists",
          "Nurse practitioners & nurse midwives",
          "Occupational health and safety specialists and technicians",
          "Occupational therapists",
          "Operations research analysts",
          "Optometrists",
          "Orderlies and psychiatric aides",
          "Other Physical Scientists",
          "Other Sales Workers",
          "Other assemblers and fabricators",
          "Other construction and related workers",
          "Other designers",
          "Other drafters",
          "Other education, training, & library workers",
          "Other engineering technologists and technicians, except drafters",
          "Other financial clerks",
          "Other financial specialists",
          "Other grounds maintenance workers",
          "Other healthcare practitioners & technical Occupations",
          "Other information and records clerks",
          "Other managers",
          "Other psychologists",
          "Other teachers and instructors",
          "Other therapists, including exercise physiologists",
          "Painting workers",
          "Paramedics",
          "Parts salespersons",
          "Payroll & timekeeping clerks",
          "Personal care & service workers, all other ",
          "Personal care aides",
          "Personal financial advisors",
          "Petroleum, mining & geological engineers, including mining safety engineers",
          "Pharmacists",
          "Pharmacy aides",
          "Pharmacy technicians",
          "Phlebotomists",
          "Photographers",
          "Photographic process workers & processing machine operators",
          "Physical therapists",
          "Physician assistants",
          "Physicians",
          "Pipelayers",
          "Plumbers, pipefitters, and steamfitters",
          "Podiatrists",
          "Postal service clerks",
          "Postal service mail carriers",
          "Postsecondary teachers",
          "Power plant operators, distributors, & dispatchers",
          "Precision instrument & equipment repairers",
          "Prepress technicians & workers",
          "Pressers, textile, garment, & related materials",
          "Printing press operators",
          "Private detectives & investigators",
          "Procurement clerks",
          "Producers & directors",
          "Production, planning, & expediting clerks",
          "Project management specialists",
          "Property appraisers and assessors",
          "Property, real estate, & community association managers",
          "Psychiatric technicians",
          "Public relations and fundraising managers",
          "Public relations specialists",
          "Public safety telecommunicators",
          "Purchasing agents, except wholesale, retail, & farm products",
          "Purchasing managers",
          "Radio & telecommunications equipment installers & repairers",
          "Radiologic technologists and technicians",
          "Railtrack laying & maintenance equipment operators",
          "Real estate brokers & sales agents",
          "Recreation workers",
          "Refuse & recyclable material collectors",
          "Reservation & transportation ticket agents & travel clerks",
          "Respiratory therapists",
          "Riggers",
          "Sailors & marine oilers, & ship engineers",
          "Sales engineers",
          "Sales managers",
          "Sales representatives of services, except advertising, insurance, financial services, and travel",
          "Sales representatives, wholesale & manufacturing",
          "Secondary school teachers",
          "Securities, commodities, & financial services sales agents",
          "Sewing machine operators",
          "Sheet metal workers",
          "Ship & boat captains & operators",
          "Shipping, receiving, & traffic clerks",
          "Shuttle drivers and chauffeurs",
          "Skincare specialists",
          "Social & community service managers",
          "Social & human service assistants",
          "Social workers, all other",
          "Software developers",
          "Software quality assurance analysts and testers",
          "Special education teachers",
          "Speechlanguage pathologists",
          "Stationary engineers & boiler operators",
          "Structural iron & steel workers",
          "Subway, streetcar, & other rail transportation workers",
          "Supervisors of personal care and service workers",
          "Supervisors of transportation & material moving workers",
          "Surface mining machine operators and earth drillers",
          "Surgeons",
          "Surgical technologists",
          "Surveyors, cartographers, & photogrammetrists",
          "Switchboard operators, including answering service",
          "Tailors, dressmakers, & sewers",
          "Tax examiners & collectors, & revenue agents",
          "Tax preparers",
          "Teaching assistants",
          "Technical writers",
          "Telemarketers",
          "Television, video, & motion picture camera operators & editors",
          "Tellers",
          "Title examiners, abstractors, and searchers",
          "Tool & die makers",
          "Training & development managers",
          "Training & development specialists",
          "Transportation inspectors",
          "Transportation, storage, & distribution managers",
          "Travel agents",
          "Tutors",
          "Urban & regional planners",
          "Veterinarians",
          "Web developers",
          "Weighers, measurers, checkers, & samplers, recordkeeping",
          "Welding, soldering, & brazing workers",
          "Wholesale & retail buyers, except farm products",
          "Word processors & typists",
          "Writers & authors"
         ],
         "marker": {
          "coloraxis": "coloraxis",
          "colors": [
           62325.81180323831,
           23837.018882976117,
           131082.8818200338,
           25777.913758536943,
           65180.52933783396,
           68524.37743676595,
           59021.975463194794,
           93327.5642780684,
           52365.18566942112,
           73129.95560560029,
           49816.739380129606,
           115613.87787785068,
           77911.62260282584,
           134098.2588754237,
           47426.37505773672,
           38222.123354721945,
           25804.65972662201,
           84055.70255182173,
           46411.686201251,
           72197.66650857519,
           61989.37370088788,
           32564.209274643224,
           30327.932121098645,
           18032.102304517404,
           30176.22288893494,
           59556.86879827084,
           41851.05012438324,
           78561.54284776543,
           29528.559522344254,
           26789.74188062917,
           41004.89901249011,
           47494.13361466179,
           69666.63007916698,
           38950.83047134692,
           31058.899701309867,
           60104.46884870296,
           48470.9709357977,
           24205.928871671804,
           76805.666221549,
           29219.94375219718,
           28945.322882471555,
           95707.39540394994,
           46327.94100067397,
           45774.816572836535,
           71654.08234075189,
           141283.83645852594,
           40268.08144283756,
           58929.317817604286,
           78192.060073669,
           50551.26477380682,
           16482.65136833201,
           37242.277296257234,
           51778.568506249576,
           40537.11193698079,
           23108.58017214645,
           64670.474974791454,
           36114.60724000583,
           78976.88495217955,
           68567.09218929497,
           102527.27215764132,
           94807.30005530168,
           91131.80557198216,
           95432.99220300168,
           66101.74828543983,
           77866.92885289535,
           55567.94486305866,
           77237.25612018259,
           34111.81459847549,
           43128.22957442338,
           61965.46836887661,
           35594.34562280398,
           44429.20154510544,
           25475.875527645385,
           58963.60741807346,
           29336.140976319868,
           21224.121135503043,
           25455.23543415416,
           41302.23245893465,
           32206.02630147211,
           52157.03533231164,
           65046.29732411437,
           67871.33144378143,
           34218.989315813145,
           22268.389580156098,
           23049.434303642476,
           79421.41349617914,
           25885.726746630076,
           45805.26850247612,
           127707.80053807772,
           59379.22345456758,
           69472.63203857554,
           73862.48732493505,
           23782.07830903161,
           39096.582625035946,
           9084.450009043796,
           35634.46485871115,
           12001.064758249571,
           114682.51872642573,
           42043.86066368738,
           61611.01116745079,
           42271.27930216287,
           86776.8579969871,
           53540.34918912635,
           65493.39119757196,
           43910.5889145085,
           38127.327691325496,
           18197.389689497715,
           61993.09140205178,
           32942.22322574207,
           20966.251639698374,
           49636.58347605184,
           71953.92582655714,
           65728.77726596073,
           51300.14741045749,
           18557.758449173725,
           63234.3637466893,
           20768.158865386376,
           19711.50749764744,
           99633.71762472302,
           84243.87504905622,
           92038.95558870002,
           50797.66099089327,
           60741.10529640623,
           52835.460961295445,
           49417.46122027499,
           36521.10992419021,
           79095.65843796109,
           23221.954729882902,
           30437.467101766862,
           30445.472644406233,
           55421.74534635546,
           70776.29211066732,
           47745.36143510247,
           72515.40418093909,
           52761.15422880403,
           41477.25663697701,
           19378.37092044049,
           28033.734583450947,
           14832.075398137817,
           24743.122995512807,
           52283.03605469805,
           35140.39154910472,
           78932.01272296738,
           61372.75083753752,
           87151.5303347076,
           34496.47018491756,
           14749.237876642408,
           38353.11703256923,
           29674.267250882865,
           40489.77443785951,
           24128.41562454649,
           38378.79207938513,
           44733.34179050102,
           17466.60141660227,
           33178.85776041633,
           27654.70463368473,
           17849.767202998682,
           7298.707426565948,
           34415.54164961781,
           72391.03540336741,
           57666.48193707906,
           44134.840626734825,
           72963.74519021867,
           77305.98243070339,
           28316.51640626329,
           99255.28312032484,
           35233.93772157667,
           35227.90167829536,
           53854.68649385349,
           65638.00450135449,
           36057.52256948615,
           24839.23264750008,
           21861.84183990398,
           18652.591724538102,
           22002.90098277413,
           45501.206595896656,
           52836.31464534281,
           15733.041414996618,
           124478.50814810928,
           51851.69868932738,
           38743.72834992776,
           31387.677482973708,
           41311.80037528319,
           69242.97227760029,
           44643.67056716537,
           20549.95076797113,
           51396.85651046584,
           100650.60025262598,
           42789.54914546744,
           71424.88393523055,
           16111.591951102404,
           67737.87609580542,
           84553.35115257063,
           75692.34374789787,
           77923.2754670551,
           45738.47699453552,
           74643.1976723827,
           36712.26768026895,
           79977.46222023785,
           29478.17755637593,
           36565.28803457047,
           38444.34215087046,
           42402.01984131153,
           50292.34811300116,
           55304.079102988384,
           16628.22510331464,
           35919.69688191546,
           86422.79194750793,
           46908.093319714535,
           56702.29217997607,
           40881.49083530776,
           31240.44343356784,
           31943.50142127496,
           78440.25824818271,
           31441.368054438903,
           33074.02633459529,
           47658.99585933047,
           36419.37091583332,
           21057.875554873684,
           12089.157200194966,
           45458.09118281886,
           34240.47854996907,
           16029.08324698749,
           87041.6083510504,
           70080.64245976007,
           41055.12144860946,
           55210.178798093686,
           12892.923146844189,
           132946.1370184876,
           137847.88905761446,
           87225.35349109002,
           57535.97015304272,
           55173.350408930695,
           72711.06132234662,
           91038.6455644665,
           25306.18528302336,
           73811.74773838854,
           46439.11797243441,
           28336.098475104645,
           33783.57118618442,
           53254.28081265958,
           46485.453612793,
           37658.63625455013,
           50386.275107003865,
           76459.69278730197,
           98080.72862112064,
           21836.04791224345,
           50832.997136739934,
           27589.80015808264,
           81551.87862464933,
           53563.49249437002,
           27488.37442010176,
           36901.664170625954,
           32045.102034612293,
           52015.679790635775,
           31610.204685323344,
           35663.60141114026,
           13793.519217580752,
           17215.14524964851,
           110943.36940078795,
           121965.87102455912,
           88632.34688145593,
           26736.33731428137,
           26957.903027151304,
           25624.92292170621,
           18706.69295753645,
           30965.833870049184,
           62904.28474109715,
           92251.10058815022,
           206831.79290917717,
           42543.59074856914,
           42818.8588668122,
           112776.64908379482,
           39043.04188390946,
           40916.01652746223,
           49991.3293453298,
           77072.03539917499,
           39830.83843111634,
           28606.185665592537,
           16193.32000426246,
           29290.655845659767,
           49400.32033046294,
           54550.11160513914,
           65061.10863708074,
           43460.926789749006,
           85846.81864248517,
           48461.502698798846,
           50731.530055109695,
           28564.15312128976,
           74606.32962434617,
           65890.44220114923,
           39323.02896738144,
           52067.00708327911,
           74013.09656763387,
           44276.66890565007,
           56736.64149052558,
           45811.17066281983,
           43001.75341421511,
           14309.727258727167,
           22188.50703081367,
           33710.41897704174,
           51020.96436409806,
           40344.35734232715,
           40118.08176109504,
           108780.47602985431,
           106611.873312147,
           75405.68465396445,
           67929.48572119647,
           44453.7424627428,
           116457.02855852002,
           17269.500289562806,
           35902.77781309052,
           58756.26745002127,
           25653.37673230873,
           20707.831104655925,
           20858.655397823222,
           53910.81155826022,
           30698.30014742825,
           42459.290731701134,
           105223.46968687043,
           67147.49640006834,
           39431.04420467718,
           50207.30577175528,
           52943.04697941828,
           41597.72428036212,
           47802.9807478361,
           30029.72070930067,
           46180.44061832814,
           46333.96708760852,
           282720.32402206364,
           43286.84426099381,
           49595.98174533926,
           21808.571338329948,
           15983.401820326637,
           47345.32916778644,
           29580.191946286614,
           17811.086020843995,
           56772.363575088,
           14505.106969376626,
           38307.65295374869,
           19795.10948127888,
           48875.86334200142,
           47066.67801894364,
           66052.19979468547,
           51927.48752447238,
           49656.38642631887,
           53695.69069794224,
           29475.76372948768,
           7886.36983348715,
           63264.65459091392,
           84868.11662911795,
           50938.46175184039,
           30412.053429529173,
           35513.337744243305,
           34179.94080459817,
           23422.143117200358,
           35383.70536572448
          ]
         },
         "name": "",
         "parents": [
          "",
          "",
          "",
          "",
          "",
          "",
          "",
          "",
          "",
          "",
          "",
          "",
          "",
          "",
          "",
          "",
          "",
          "",
          "",
          "",
          "",
          "",
          "",
          "",
          "",
          "",
          "",
          "",
          "",
          "",
          "",
          "",
          "",
          "",
          "",
          "",
          "",
          "",
          "",
          "",
          "",
          "",
          "",
          "",
          "",
          "",
          "",
          "",
          "",
          "",
          "",
          "",
          "",
          "",
          "",
          "",
          "",
          "",
          "",
          "",
          "",
          "",
          "",
          "",
          "",
          "",
          "",
          "",
          "",
          "",
          "",
          "",
          "",
          "",
          "",
          "",
          "",
          "",
          "",
          "",
          "",
          "",
          "",
          "",
          "",
          "",
          "",
          "",
          "",
          "",
          "",
          "",
          "",
          "",
          "",
          "",
          "",
          "",
          "",
          "",
          "",
          "",
          "",
          "",
          "",
          "",
          "",
          "",
          "",
          "",
          "",
          "",
          "",
          "",
          "",
          "",
          "",
          "",
          "",
          "",
          "",
          "",
          "",
          "",
          "",
          "",
          "",
          "",
          "",
          "",
          "",
          "",
          "",
          "",
          "",
          "",
          "",
          "",
          "",
          "",
          "",
          "",
          "",
          "",
          "",
          "",
          "",
          "",
          "",
          "",
          "",
          "",
          "",
          "",
          "",
          "",
          "",
          "",
          "",
          "",
          "",
          "",
          "",
          "",
          "",
          "",
          "",
          "",
          "",
          "",
          "",
          "",
          "",
          "",
          "",
          "",
          "",
          "",
          "",
          "",
          "",
          "",
          "",
          "",
          "",
          "",
          "",
          "",
          "",
          "",
          "",
          "",
          "",
          "",
          "",
          "",
          "",
          "",
          "",
          "",
          "",
          "",
          "",
          "",
          "",
          "",
          "",
          "",
          "",
          "",
          "",
          "",
          "",
          "",
          "",
          "",
          "",
          "",
          "",
          "",
          "",
          "",
          "",
          "",
          "",
          "",
          "",
          "",
          "",
          "",
          "",
          "",
          "",
          "",
          "",
          "",
          "",
          "",
          "",
          "",
          "",
          "",
          "",
          "",
          "",
          "",
          "",
          "",
          "",
          "",
          "",
          "",
          "",
          "",
          "",
          "",
          "",
          "",
          "",
          "",
          "",
          "",
          "",
          "",
          "",
          "",
          "",
          "",
          "",
          "",
          "",
          "",
          "",
          "",
          "",
          "",
          "",
          "",
          "",
          "",
          "",
          "",
          "",
          "",
          "",
          "",
          "",
          "",
          "",
          "",
          "",
          "",
          "",
          "",
          "",
          "",
          "",
          "",
          "",
          "",
          "",
          "",
          "",
          "",
          "",
          "",
          "",
          "",
          "",
          "",
          "",
          "",
          "",
          "",
          "",
          "",
          "",
          "",
          "",
          "",
          "",
          "",
          "",
          "",
          "",
          "",
          "",
          "",
          "",
          "",
          "",
          "",
          "",
          "",
          "",
          "",
          "",
          "",
          "",
          "",
          "",
          "",
          "",
          "",
          "",
          "",
          "",
          "",
          "",
          "",
          "",
          "",
          "",
          "",
          "",
          "",
          ""
         ],
         "textfont": {
          "size": 22
         },
         "type": "treemap",
         "values": [
          5,
          1,
          17,
          1,
          3,
          4,
          10,
          10,
          8,
          4,
          5,
          58,
          13,
          33,
          1,
          1,
          3,
          2,
          5,
          1,
          1,
          1,
          1,
          2,
          1,
          1,
          1,
          2,
          1,
          2,
          1,
          9,
          4,
          1,
          4,
          9,
          1,
          1,
          17,
          2,
          2,
          7,
          1,
          1,
          4,
          113,
          1,
          9,
          15,
          3,
          1,
          2,
          1,
          3,
          6,
          3,
          1,
          4,
          5,
          23,
          2,
          3,
          9,
          1,
          5,
          3,
          4,
          1,
          1,
          10,
          1,
          3,
          1,
          12,
          1,
          4,
          1,
          2,
          1,
          3,
          2,
          18,
          1,
          1,
          4,
          4,
          1,
          1,
          99,
          2,
          5,
          13,
          3,
          5,
          1,
          2,
          5,
          6,
          1,
          4,
          4,
          7,
          2,
          7,
          3,
          3,
          1,
          1,
          2,
          4,
          2,
          5,
          1,
          1,
          2,
          4,
          3,
          1,
          25,
          1,
          9,
          1,
          3,
          3,
          1,
          4,
          7,
          3,
          7,
          5,
          3,
          10,
          1,
          6,
          3,
          3,
          1,
          3,
          2,
          1,
          5,
          1,
          11,
          1,
          5,
          1,
          2,
          5,
          1,
          1,
          2,
          4,
          2,
          2,
          1,
          1,
          3,
          1,
          2,
          10,
          1,
          1,
          5,
          23,
          1,
          11,
          2,
          2,
          21,
          7,
          1,
          2,
          1,
          1,
          1,
          1,
          4,
          1,
          51,
          5,
          1,
          2,
          3,
          1,
          6,
          1,
          3,
          24,
          2,
          12,
          1,
          12,
          8,
          3,
          4,
          2,
          16,
          1,
          6,
          1,
          2,
          1,
          1,
          1,
          1,
          2,
          2,
          12,
          2,
          6,
          2,
          3,
          2,
          6,
          1,
          1,
          1,
          1,
          1,
          4,
          2,
          3,
          1,
          10,
          7,
          1,
          4,
          1,
          16,
          27,
          10,
          1,
          1,
          2,
          11,
          2,
          8,
          8,
          3,
          2,
          2,
          2,
          4,
          1,
          14,
          28,
          1,
          4,
          1,
          2,
          4,
          2,
          1,
          1,
          3,
          2,
          2,
          1,
          1,
          70,
          6,
          18,
          1,
          1,
          1,
          3,
          1,
          4,
          32,
          321,
          2,
          1,
          9,
          1,
          3,
          2,
          4,
          1,
          1,
          1,
          1,
          1,
          4,
          8,
          2,
          15,
          5,
          8,
          1,
          3,
          7,
          1,
          6,
          10,
          2,
          16,
          1,
          9,
          1,
          1,
          5,
          3,
          1,
          1,
          10,
          36,
          9,
          6,
          1,
          37,
          1,
          2,
          2,
          1,
          1,
          1,
          8,
          1,
          2,
          13,
          1,
          1,
          3,
          5,
          1,
          1,
          1,
          4,
          1,
          147,
          3,
          1,
          1,
          1,
          1,
          5,
          1,
          2,
          2,
          4,
          1,
          1,
          1,
          2,
          6,
          2,
          6,
          3,
          1,
          2,
          18,
          1,
          1,
          1,
          3,
          2,
          2
         ]
        }
       ],
       "layout": {
        "coloraxis": {
         "colorbar": {
          "title": {
           "font": {
            "size": 20
           },
           "text": "Average National Salary in Dollars"
          },
          "x": 1
         },
         "colorscale": [
          [
           0,
           "#fde725"
          ],
          [
           0.1111111111111111,
           "#b5de2b"
          ],
          [
           0.2222222222222222,
           "#6ece58"
          ],
          [
           0.3333333333333333,
           "#35b779"
          ],
          [
           0.4444444444444444,
           "#1f9e89"
          ],
          [
           0.5555555555555556,
           "#26828e"
          ],
          [
           0.6666666666666666,
           "#31688e"
          ],
          [
           0.7777777777777778,
           "#3e4989"
          ],
          [
           0.8888888888888888,
           "#482878"
          ],
          [
           1,
           "#440154"
          ]
         ]
        },
        "height": 800,
        "legend": {
         "tracegroupgap": 0
        },
        "margin": {
         "t": 60
        },
        "template": {
         "data": {
          "bar": [
           {
            "error_x": {
             "color": "#2a3f5f"
            },
            "error_y": {
             "color": "#2a3f5f"
            },
            "marker": {
             "line": {
              "color": "#E5ECF6",
              "width": 0.5
             },
             "pattern": {
              "fillmode": "overlay",
              "size": 10,
              "solidity": 0.2
             }
            },
            "type": "bar"
           }
          ],
          "barpolar": [
           {
            "marker": {
             "line": {
              "color": "#E5ECF6",
              "width": 0.5
             },
             "pattern": {
              "fillmode": "overlay",
              "size": 10,
              "solidity": 0.2
             }
            },
            "type": "barpolar"
           }
          ],
          "carpet": [
           {
            "aaxis": {
             "endlinecolor": "#2a3f5f",
             "gridcolor": "white",
             "linecolor": "white",
             "minorgridcolor": "white",
             "startlinecolor": "#2a3f5f"
            },
            "baxis": {
             "endlinecolor": "#2a3f5f",
             "gridcolor": "white",
             "linecolor": "white",
             "minorgridcolor": "white",
             "startlinecolor": "#2a3f5f"
            },
            "type": "carpet"
           }
          ],
          "choropleth": [
           {
            "colorbar": {
             "outlinewidth": 0,
             "ticks": ""
            },
            "type": "choropleth"
           }
          ],
          "contour": [
           {
            "colorbar": {
             "outlinewidth": 0,
             "ticks": ""
            },
            "colorscale": [
             [
              0,
              "#0d0887"
             ],
             [
              0.1111111111111111,
              "#46039f"
             ],
             [
              0.2222222222222222,
              "#7201a8"
             ],
             [
              0.3333333333333333,
              "#9c179e"
             ],
             [
              0.4444444444444444,
              "#bd3786"
             ],
             [
              0.5555555555555556,
              "#d8576b"
             ],
             [
              0.6666666666666666,
              "#ed7953"
             ],
             [
              0.7777777777777778,
              "#fb9f3a"
             ],
             [
              0.8888888888888888,
              "#fdca26"
             ],
             [
              1,
              "#f0f921"
             ]
            ],
            "type": "contour"
           }
          ],
          "contourcarpet": [
           {
            "colorbar": {
             "outlinewidth": 0,
             "ticks": ""
            },
            "type": "contourcarpet"
           }
          ],
          "heatmap": [
           {
            "colorbar": {
             "outlinewidth": 0,
             "ticks": ""
            },
            "colorscale": [
             [
              0,
              "#0d0887"
             ],
             [
              0.1111111111111111,
              "#46039f"
             ],
             [
              0.2222222222222222,
              "#7201a8"
             ],
             [
              0.3333333333333333,
              "#9c179e"
             ],
             [
              0.4444444444444444,
              "#bd3786"
             ],
             [
              0.5555555555555556,
              "#d8576b"
             ],
             [
              0.6666666666666666,
              "#ed7953"
             ],
             [
              0.7777777777777778,
              "#fb9f3a"
             ],
             [
              0.8888888888888888,
              "#fdca26"
             ],
             [
              1,
              "#f0f921"
             ]
            ],
            "type": "heatmap"
           }
          ],
          "heatmapgl": [
           {
            "colorbar": {
             "outlinewidth": 0,
             "ticks": ""
            },
            "colorscale": [
             [
              0,
              "#0d0887"
             ],
             [
              0.1111111111111111,
              "#46039f"
             ],
             [
              0.2222222222222222,
              "#7201a8"
             ],
             [
              0.3333333333333333,
              "#9c179e"
             ],
             [
              0.4444444444444444,
              "#bd3786"
             ],
             [
              0.5555555555555556,
              "#d8576b"
             ],
             [
              0.6666666666666666,
              "#ed7953"
             ],
             [
              0.7777777777777778,
              "#fb9f3a"
             ],
             [
              0.8888888888888888,
              "#fdca26"
             ],
             [
              1,
              "#f0f921"
             ]
            ],
            "type": "heatmapgl"
           }
          ],
          "histogram": [
           {
            "marker": {
             "pattern": {
              "fillmode": "overlay",
              "size": 10,
              "solidity": 0.2
             }
            },
            "type": "histogram"
           }
          ],
          "histogram2d": [
           {
            "colorbar": {
             "outlinewidth": 0,
             "ticks": ""
            },
            "colorscale": [
             [
              0,
              "#0d0887"
             ],
             [
              0.1111111111111111,
              "#46039f"
             ],
             [
              0.2222222222222222,
              "#7201a8"
             ],
             [
              0.3333333333333333,
              "#9c179e"
             ],
             [
              0.4444444444444444,
              "#bd3786"
             ],
             [
              0.5555555555555556,
              "#d8576b"
             ],
             [
              0.6666666666666666,
              "#ed7953"
             ],
             [
              0.7777777777777778,
              "#fb9f3a"
             ],
             [
              0.8888888888888888,
              "#fdca26"
             ],
             [
              1,
              "#f0f921"
             ]
            ],
            "type": "histogram2d"
           }
          ],
          "histogram2dcontour": [
           {
            "colorbar": {
             "outlinewidth": 0,
             "ticks": ""
            },
            "colorscale": [
             [
              0,
              "#0d0887"
             ],
             [
              0.1111111111111111,
              "#46039f"
             ],
             [
              0.2222222222222222,
              "#7201a8"
             ],
             [
              0.3333333333333333,
              "#9c179e"
             ],
             [
              0.4444444444444444,
              "#bd3786"
             ],
             [
              0.5555555555555556,
              "#d8576b"
             ],
             [
              0.6666666666666666,
              "#ed7953"
             ],
             [
              0.7777777777777778,
              "#fb9f3a"
             ],
             [
              0.8888888888888888,
              "#fdca26"
             ],
             [
              1,
              "#f0f921"
             ]
            ],
            "type": "histogram2dcontour"
           }
          ],
          "mesh3d": [
           {
            "colorbar": {
             "outlinewidth": 0,
             "ticks": ""
            },
            "type": "mesh3d"
           }
          ],
          "parcoords": [
           {
            "line": {
             "colorbar": {
              "outlinewidth": 0,
              "ticks": ""
             }
            },
            "type": "parcoords"
           }
          ],
          "pie": [
           {
            "automargin": true,
            "type": "pie"
           }
          ],
          "scatter": [
           {
            "fillpattern": {
             "fillmode": "overlay",
             "size": 10,
             "solidity": 0.2
            },
            "type": "scatter"
           }
          ],
          "scatter3d": [
           {
            "line": {
             "colorbar": {
              "outlinewidth": 0,
              "ticks": ""
             }
            },
            "marker": {
             "colorbar": {
              "outlinewidth": 0,
              "ticks": ""
             }
            },
            "type": "scatter3d"
           }
          ],
          "scattercarpet": [
           {
            "marker": {
             "colorbar": {
              "outlinewidth": 0,
              "ticks": ""
             }
            },
            "type": "scattercarpet"
           }
          ],
          "scattergeo": [
           {
            "marker": {
             "colorbar": {
              "outlinewidth": 0,
              "ticks": ""
             }
            },
            "type": "scattergeo"
           }
          ],
          "scattergl": [
           {
            "marker": {
             "colorbar": {
              "outlinewidth": 0,
              "ticks": ""
             }
            },
            "type": "scattergl"
           }
          ],
          "scattermapbox": [
           {
            "marker": {
             "colorbar": {
              "outlinewidth": 0,
              "ticks": ""
             }
            },
            "type": "scattermapbox"
           }
          ],
          "scatterpolar": [
           {
            "marker": {
             "colorbar": {
              "outlinewidth": 0,
              "ticks": ""
             }
            },
            "type": "scatterpolar"
           }
          ],
          "scatterpolargl": [
           {
            "marker": {
             "colorbar": {
              "outlinewidth": 0,
              "ticks": ""
             }
            },
            "type": "scatterpolargl"
           }
          ],
          "scatterternary": [
           {
            "marker": {
             "colorbar": {
              "outlinewidth": 0,
              "ticks": ""
             }
            },
            "type": "scatterternary"
           }
          ],
          "surface": [
           {
            "colorbar": {
             "outlinewidth": 0,
             "ticks": ""
            },
            "colorscale": [
             [
              0,
              "#0d0887"
             ],
             [
              0.1111111111111111,
              "#46039f"
             ],
             [
              0.2222222222222222,
              "#7201a8"
             ],
             [
              0.3333333333333333,
              "#9c179e"
             ],
             [
              0.4444444444444444,
              "#bd3786"
             ],
             [
              0.5555555555555556,
              "#d8576b"
             ],
             [
              0.6666666666666666,
              "#ed7953"
             ],
             [
              0.7777777777777778,
              "#fb9f3a"
             ],
             [
              0.8888888888888888,
              "#fdca26"
             ],
             [
              1,
              "#f0f921"
             ]
            ],
            "type": "surface"
           }
          ],
          "table": [
           {
            "cells": {
             "fill": {
              "color": "#EBF0F8"
             },
             "line": {
              "color": "white"
             }
            },
            "header": {
             "fill": {
              "color": "#C8D4E3"
             },
             "line": {
              "color": "white"
             }
            },
            "type": "table"
           }
          ]
         },
         "layout": {
          "annotationdefaults": {
           "arrowcolor": "#2a3f5f",
           "arrowhead": 0,
           "arrowwidth": 1
          },
          "autotypenumbers": "strict",
          "coloraxis": {
           "colorbar": {
            "outlinewidth": 0,
            "ticks": ""
           }
          },
          "colorscale": {
           "diverging": [
            [
             0,
             "#8e0152"
            ],
            [
             0.1,
             "#c51b7d"
            ],
            [
             0.2,
             "#de77ae"
            ],
            [
             0.3,
             "#f1b6da"
            ],
            [
             0.4,
             "#fde0ef"
            ],
            [
             0.5,
             "#f7f7f7"
            ],
            [
             0.6,
             "#e6f5d0"
            ],
            [
             0.7,
             "#b8e186"
            ],
            [
             0.8,
             "#7fbc41"
            ],
            [
             0.9,
             "#4d9221"
            ],
            [
             1,
             "#276419"
            ]
           ],
           "sequential": [
            [
             0,
             "#0d0887"
            ],
            [
             0.1111111111111111,
             "#46039f"
            ],
            [
             0.2222222222222222,
             "#7201a8"
            ],
            [
             0.3333333333333333,
             "#9c179e"
            ],
            [
             0.4444444444444444,
             "#bd3786"
            ],
            [
             0.5555555555555556,
             "#d8576b"
            ],
            [
             0.6666666666666666,
             "#ed7953"
            ],
            [
             0.7777777777777778,
             "#fb9f3a"
            ],
            [
             0.8888888888888888,
             "#fdca26"
            ],
            [
             1,
             "#f0f921"
            ]
           ],
           "sequentialminus": [
            [
             0,
             "#0d0887"
            ],
            [
             0.1111111111111111,
             "#46039f"
            ],
            [
             0.2222222222222222,
             "#7201a8"
            ],
            [
             0.3333333333333333,
             "#9c179e"
            ],
            [
             0.4444444444444444,
             "#bd3786"
            ],
            [
             0.5555555555555556,
             "#d8576b"
            ],
            [
             0.6666666666666666,
             "#ed7953"
            ],
            [
             0.7777777777777778,
             "#fb9f3a"
            ],
            [
             0.8888888888888888,
             "#fdca26"
            ],
            [
             1,
             "#f0f921"
            ]
           ]
          },
          "colorway": [
           "#636efa",
           "#EF553B",
           "#00cc96",
           "#ab63fa",
           "#FFA15A",
           "#19d3f3",
           "#FF6692",
           "#B6E880",
           "#FF97FF",
           "#FECB52"
          ],
          "font": {
           "color": "#2a3f5f"
          },
          "geo": {
           "bgcolor": "white",
           "lakecolor": "white",
           "landcolor": "#E5ECF6",
           "showlakes": true,
           "showland": true,
           "subunitcolor": "white"
          },
          "hoverlabel": {
           "align": "left"
          },
          "hovermode": "closest",
          "mapbox": {
           "style": "light"
          },
          "paper_bgcolor": "white",
          "plot_bgcolor": "#E5ECF6",
          "polar": {
           "angularaxis": {
            "gridcolor": "white",
            "linecolor": "white",
            "ticks": ""
           },
           "bgcolor": "#E5ECF6",
           "radialaxis": {
            "gridcolor": "white",
            "linecolor": "white",
            "ticks": ""
           }
          },
          "scene": {
           "xaxis": {
            "backgroundcolor": "#E5ECF6",
            "gridcolor": "white",
            "gridwidth": 2,
            "linecolor": "white",
            "showbackground": true,
            "ticks": "",
            "zerolinecolor": "white"
           },
           "yaxis": {
            "backgroundcolor": "#E5ECF6",
            "gridcolor": "white",
            "gridwidth": 2,
            "linecolor": "white",
            "showbackground": true,
            "ticks": "",
            "zerolinecolor": "white"
           },
           "zaxis": {
            "backgroundcolor": "#E5ECF6",
            "gridcolor": "white",
            "gridwidth": 2,
            "linecolor": "white",
            "showbackground": true,
            "ticks": "",
            "zerolinecolor": "white"
           }
          },
          "shapedefaults": {
           "line": {
            "color": "#2a3f5f"
           }
          },
          "ternary": {
           "aaxis": {
            "gridcolor": "white",
            "linecolor": "white",
            "ticks": ""
           },
           "baxis": {
            "gridcolor": "white",
            "linecolor": "white",
            "ticks": ""
           },
           "bgcolor": "#E5ECF6",
           "caxis": {
            "gridcolor": "white",
            "linecolor": "white",
            "ticks": ""
           }
          },
          "title": {
           "x": 0.05
          },
          "xaxis": {
           "automargin": true,
           "gridcolor": "white",
           "linecolor": "white",
           "ticks": "",
           "title": {
            "standoff": 15
           },
           "zerolinecolor": "white",
           "zerolinewidth": 2
          },
          "yaxis": {
           "automargin": true,
           "gridcolor": "white",
           "linecolor": "white",
           "ticks": "",
           "title": {
            "standoff": 15
           },
           "zerolinecolor": "white",
           "zerolinewidth": 2
          }
         }
        },
        "title": {
         "font": {
          "color": "black",
          "size": 25
         },
         "text": "The Highest-paying and Most Common Occupations in The Country",
         "x": 0.055,
         "y": 0.965
        },
        "width": 1500
       }
      }
     },
     "metadata": {},
     "output_type": "display_data"
    }
   ],
   "source": [
    "#Codigo para contar la cantidad de veces que se repiten las occupaciones y tambien tener su sueldo promedio a nivel pais\n",
    "v1=new_file.groupby('Occupation').agg({'Occupation':'count'}).rename(columns={'Occupation':'Total'}).sort_values(by='Total',ascending=False).reset_index()\n",
    "aux=new_file[['Occupation','Average National Salary for Each Occupation']]\n",
    "v1=pd.merge(v1,aux)\n",
    "#Elimino valores que se duplcian al realizar el merge\n",
    "v1=v1.drop_duplicates()\n",
    "\n",
    "\n",
    "#Para la visualización elegi un treemap para destacar con el tamaño cuales son los trabajos que se suelen ser los mejroes pagados por locacización\n",
    "#Ademas decidi agregar escala de color secuencial que represente el sueldo promedio que reciben para poder analizar si las mejor paagdas mas comunes necesarimante son las de mayor sueldo promedio\n",
    "g1=px.treemap(v1,path=['Occupation'],values='Total',color='Average National Salary for Each Occupation',color_continuous_scale='Viridis_r')\n",
    "\n",
    "\n",
    "#Tamaño Grafico\n",
    "g1.update_layout(     \n",
    "    width=1500,  # Ancho del gráfico en píxeles\n",
    "    height=800,  # Alto del gráfico en píxeles\n",
    "    title='The Highest-paying and Most Common Occupations in The Country',\n",
    "    title_y=0.965,\n",
    "    title_x=0.055, \n",
    "    title_font_color='black',\n",
    "    title_font_size=25,\n",
    "    coloraxis_colorbar=dict(\n",
    "        x=1.0,\n",
    "        title=\"Average National Salary in Dollars\",\n",
    "        title_font=dict(size=20),\n",
    "    )\n",
    ")\n",
    "\n",
    "g1.update_traces(textfont=dict(size=22))\n",
    "g1.show()\n",
    "\n",
    "#De la visualización se puede apreciar como hay ciertas ocupaciones que se repite nde manera muy frecuente y al mismo tiempo se aprecia como la ocupación mejor pagada más común no es la mejor pada, siendo en realidad Surgeons."
   ]
  },
  {
   "cell_type": "markdown",
   "metadata": {},
   "source": [
    "In this graph, I aim to show with boxplots the 20 occupations with the highest salaries and demonstrate how only a few of them are the most common. This means that it shows that the highest-paying jobs are not necessarily the most common. By using colors, I highlight which ones are the most common within the top 10"
   ]
  },
  {
   "cell_type": "code",
   "execution_count": 85,
   "metadata": {},
   "outputs": [],
   "source": [
    "v2=new_file.groupby('Occupation').agg({'Occupation':'count'}).rename(columns={'Occupation':'Total'}).sort_values(by='Total',ascending=False).reset_index()\n",
    "aux=new_file[['Occupation','Average Salary for Each Occupation by Location']]\n",
    "v2=pd.merge(v2,aux)\n",
    "\n",
    "v2=v2.sort_values(by='Average Salary for Each Occupation by Location',ascending=False).reset_index(drop=True)\n",
    "\n",
    "hp=[] #Lista que almacenara las ocupaciones mejor pagadas una única vez \n",
    "\n",
    "#Realizo ciclo para encontrar las ocupaciones mejor pagadas y seleccionar las 20 con mayor sueldo promedio\n",
    "for i in range(len(v2)):\n",
    "    temp=v2.iloc[i,0] #Variable temporal que almacena una ocupacion, y las recorre en el orden de la mejor pagada a la peor\n",
    "    #Si es que no esta en la lista de la mejor pagada se agrega\n",
    "    if temp not in hp:\n",
    "        hp.append(temp)\n",
    "    if len(hp)==20: #Se detiene cuando tengo 20 elementos en la lista\n",
    "        break\n",
    "#Mas repetidos\n",
    "mr=[] #Lista que almacenara las ocupaciones mas comunes con sueldo mas altos\n",
    "\n",
    "#Realizo ciclo para encontrar las ocupaciones mejor pagadas y seleccionar las 10 con mayor sueldo promedio\n",
    "v2=v2.sort_values(by='Total',ascending=False)\n",
    "for i in range(len(v2)):\n",
    "    temp=v2.iloc[i,0] #Variable temporal que almacena una ocupacion, y las recorre en el orden de la más frecuente con sueldo más alto\n",
    "    #Si es que no esta en la lista de la mejor pagada se agrega\n",
    "    if temp not in mr:\n",
    "        mr.append(temp)\n",
    "    if len(mr)==10: #Se detiene cuando tengo 10 elementos en la lista\n",
    "        break\n",
    "v2['Most paid']=v2['Occupation'].isin(mr)\n"
   ]
  },
  {
   "cell_type": "code",
   "execution_count": 86,
   "metadata": {},
   "outputs": [
    {
     "name": "stderr",
     "output_type": "stream",
     "text": [
      "c:\\Users\\GAMER 101\\anaconda3\\Lib\\site-packages\\matplotlib\\cbook.py:1261: RuntimeWarning:\n",
      "\n",
      "invalid value encountered in scalar multiply\n",
      "\n",
      "c:\\Users\\GAMER 101\\anaconda3\\Lib\\site-packages\\matplotlib\\cbook.py:1262: RuntimeWarning:\n",
      "\n",
      "invalid value encountered in scalar multiply\n",
      "\n",
      "c:\\Users\\GAMER 101\\anaconda3\\Lib\\site-packages\\matplotlib\\cbook.py:1261: RuntimeWarning:\n",
      "\n",
      "invalid value encountered in scalar multiply\n",
      "\n",
      "c:\\Users\\GAMER 101\\anaconda3\\Lib\\site-packages\\matplotlib\\cbook.py:1262: RuntimeWarning:\n",
      "\n",
      "invalid value encountered in scalar multiply\n",
      "\n"
     ]
    },
    {
     "data": {
      "text/plain": [
       "(array([ 0,  1,  2,  3,  4,  5,  6,  7,  8,  9, 10, 11, 12, 13, 14, 15, 16,\n",
       "        17, 18, 19]),\n",
       " [Text(0, 0, 'Surgeons'),\n",
       "  Text(1, 0, 'Music directors and composers'),\n",
       "  Text(2, 0, 'Magnetic resonance imaging technologists'),\n",
       "  Text(3, 0, 'Other financial specialists'),\n",
       "  Text(4, 0, 'Actuaries'),\n",
       "  Text(5, 0, 'Producers & directors'),\n",
       "  Text(6, 0, 'Athletes and sports competitors'),\n",
       "  Text(7, 0, 'Dentists'),\n",
       "  Text(8, 0, 'Entertainers & performers, sports & related workers, all other'),\n",
       "  Text(9, 0, 'Chiropractors'),\n",
       "  Text(10, 0, 'Personal financial advisors'),\n",
       "  Text(11, 0, 'Judicial law clerks'),\n",
       "  Text(12, 0, 'Insurance underwriters'),\n",
       "  Text(13, 0, 'Computer network architects'),\n",
       "  Text(14, 0, 'Nuclear medicine technologists and medical dosimetrists'),\n",
       "  Text(15, 0, 'Biological scientists'),\n",
       "  Text(16, 0, 'Physicians'),\n",
       "  Text(17, 0, 'Optometrists'),\n",
       "  Text(18, 0, 'Sales engineers'),\n",
       "  Text(19, 0, 'Broadcast announcers and radio disc jockeys')])"
      ]
     },
     "execution_count": 86,
     "metadata": {},
     "output_type": "execute_result"
    },
    {
     "data": {
      "image/png": "[encoded data removed]",
      "text/plain": [
       "<Figure size 1800x1000 with 1 Axes>"
      ]
     },
     "metadata": {},
     "output_type": "display_data"
    }
   ],
   "source": [
    "\n",
    "sns.set_theme(style='whitegrid')\n",
    "\n",
    "plt.figure(figsize=(18, 10))\n",
    "\n",
    "g2=sns.boxplot(x='Occupation',y='Average Salary for Each Occupation by Location',hue='Most paid',order=hp,showfliers=False,data=v2,palette=['#ff7fd0','#00c2bb'],width=0.9,whis=np.inf)\n",
    "\n",
    "g2.set_xlabel('Occupations',fontsize=12)\n",
    "g2.set_ylabel('Average Salary for Every Location in Dollars',fontsize=12)\n",
    "g2.legend(title='Part of the Top 10 Most Common Highest-Paying Jobs:', labels=['No','Yes'],fontsize=12, title_fontsize=12)\n",
    "\n",
    "plt.title('Distribution of the 20 top-paying occupations', fontsize=16)\n",
    "\n",
    "plt.xticks(rotation=90)"
   ]
  },
  {
   "cell_type": "markdown",
   "metadata": {},
   "source": [
    "BONUS"
   ]
  },
  {
   "cell_type": "markdown",
   "metadata": {},
   "source": [
    "DOLLAR A PESOS CHILENOS"
   ]
  },
  {
   "cell_type": "code",
   "execution_count": 87,
   "metadata": {},
   "outputs": [
    {
     "data": {
      "text/html": [
       "<div>\n",
       "<style scoped>\n",
       "    .dataframe tbody tr th:only-of-type {\n",
       "        vertical-align: middle;\n",
       "    }\n",
       "\n",
       "    .dataframe tbody tr th {\n",
       "        vertical-align: top;\n",
       "    }\n",
       "\n",
       "    .dataframe thead th {\n",
       "        text-align: right;\n",
       "    }\n",
       "</style>\n",
       "<table border=\"1\" class=\"dataframe\">\n",
       "  <thead>\n",
       "    <tr style=\"text-align: right;\">\n",
       "      <th></th>\n",
       "      <th>Year</th>\n",
       "      <th>Dollar Price</th>\n",
       "    </tr>\n",
       "  </thead>\n",
       "  <tbody>\n",
       "    <tr>\n",
       "      <th>0</th>\n",
       "      <td>2016</td>\n",
       "      <td>667,17</td>\n",
       "    </tr>\n",
       "    <tr>\n",
       "      <th>1</th>\n",
       "      <td>2017</td>\n",
       "      <td>638,13</td>\n",
       "    </tr>\n",
       "    <tr>\n",
       "      <th>2</th>\n",
       "      <td>2018</td>\n",
       "      <td>681,99</td>\n",
       "    </tr>\n",
       "    <tr>\n",
       "      <th>3</th>\n",
       "      <td>2019</td>\n",
       "      <td>770,39</td>\n",
       "    </tr>\n",
       "    <tr>\n",
       "      <th>4</th>\n",
       "      <td>2020</td>\n",
       "      <td>734,73</td>\n",
       "    </tr>\n",
       "    <tr>\n",
       "      <th>5</th>\n",
       "      <td>2021</td>\n",
       "      <td>849,12</td>\n",
       "    </tr>\n",
       "    <tr>\n",
       "      <th>6</th>\n",
       "      <td>2022</td>\n",
       "      <td>875,66</td>\n",
       "    </tr>\n",
       "  </tbody>\n",
       "</table>\n",
       "</div>"
      ],
      "text/plain": [
       "   Year Dollar Price\n",
       "0  2016       667,17\n",
       "1  2017       638,13\n",
       "2  2018       681,99\n",
       "3  2019       770,39\n",
       "4  2020       734,73\n",
       "5  2021       849,12\n",
       "6  2022       875,66"
      ]
     },
     "execution_count": 87,
     "metadata": {},
     "output_type": "execute_result"
    }
   ],
   "source": [
    "import glob\n",
    "dolar_price=pd.DataFrame()\n",
    "dolar = glob.glob('Dollar_files/Dolar 20*.csv') #Leo la ruta de los archivos csv del 2016 al 2022\n",
    "\n",
    "for i in dolar:\n",
    "    df_aux=pd.read_csv(i,encoding='latin1',sep=';') #Me enargo de abriar cada dataset en al ruta establecida\n",
    "    dolar_price=pd.concat([dolar_price,df_aux])\n",
    "\n",
    "\n",
    "\n",
    "#Solo usare el valor promedio y el de diciembre\n",
    "dolar_price=dolar_price[['ï»¿DÃ­a','Dic']]\n",
    "dolar_price.rename(columns={'ï»¿DÃ­a':'Days','Dic':'Dollar Price'},inplace=True)\n",
    "dolar_price=dolar_price.query('Days ==\"Promedio\"').reset_index(drop=True)\n",
    "\n",
    "year_base=2016\n",
    "#Creamos la columna de los años\n",
    "dolar_price['Year'] = range(year_base, year_base + len(dolar_price))\n",
    "dolar_price=dolar_price[['Year','Dollar Price']]\n",
    "\n",
    "dolar_price.head(10)\n",
    "\n",
    "#aqui tengo los precios en dolares proemdi ode diciembre desde el 2016 al 2024\n"
   ]
  },
  {
   "cell_type": "markdown",
   "metadata": {},
   "source": [
    "Salaries in USD correspond to CLP"
   ]
  },
  {
   "cell_type": "code",
   "execution_count": 88,
   "metadata": {},
   "outputs": [
    {
     "data": {
      "text/html": [
       "<div>\n",
       "<style scoped>\n",
       "    .dataframe tbody tr th:only-of-type {\n",
       "        vertical-align: middle;\n",
       "    }\n",
       "\n",
       "    .dataframe tbody tr th {\n",
       "        vertical-align: top;\n",
       "    }\n",
       "\n",
       "    .dataframe thead th {\n",
       "        text-align: right;\n",
       "    }\n",
       "</style>\n",
       "<table border=\"1\" class=\"dataframe\">\n",
       "  <thead>\n",
       "    <tr style=\"text-align: right;\">\n",
       "      <th></th>\n",
       "      <th>Location</th>\n",
       "      <th>Average Salary by Location ($CLP)</th>\n",
       "      <th>Occupation</th>\n",
       "      <th>Average Salary for Each Occupation by Location($CLP)</th>\n",
       "      <th>Average National Salary for Each Occupation ($CLP)</th>\n",
       "    </tr>\n",
       "  </thead>\n",
       "  <tbody>\n",
       "    <tr>\n",
       "      <th>0</th>\n",
       "      <td>Inner Mission &amp; Castro PUMA, CA</td>\n",
       "      <td>1.949632e+08</td>\n",
       "      <td>Surgeons</td>\n",
       "      <td>1.157392e+09</td>\n",
       "      <td>5.716605e+08</td>\n",
       "    </tr>\n",
       "    <tr>\n",
       "      <th>1</th>\n",
       "      <td>Battery Park City, Greenwich Village &amp; Soho PU...</td>\n",
       "      <td>1.917650e+08</td>\n",
       "      <td>Dentists</td>\n",
       "      <td>1.351998e+09</td>\n",
       "      <td>2.582252e+08</td>\n",
       "    </tr>\n",
       "    <tr>\n",
       "      <th>2</th>\n",
       "      <td>Chelsea, Clinton &amp; Midtown Business District P...</td>\n",
       "      <td>1.851963e+08</td>\n",
       "      <td>Other financial specialists</td>\n",
       "      <td>1.351998e+09</td>\n",
       "      <td>1.983192e+08</td>\n",
       "    </tr>\n",
       "    <tr>\n",
       "      <th>3</th>\n",
       "      <td>Cupertino, Saratoga Cities &amp; Los Gatos Town PU...</td>\n",
       "      <td>1.726385e+08</td>\n",
       "      <td>Industrial production managers</td>\n",
       "      <td>1.157392e+09</td>\n",
       "      <td>1.563127e+08</td>\n",
       "    </tr>\n",
       "    <tr>\n",
       "      <th>4</th>\n",
       "      <td>Essex County (Northwest) PUMA, NJ</td>\n",
       "      <td>1.701101e+08</td>\n",
       "      <td>Insurance sales agents</td>\n",
       "      <td>1.304883e+09</td>\n",
       "      <td>1.088942e+08</td>\n",
       "    </tr>\n",
       "  </tbody>\n",
       "</table>\n",
       "</div>"
      ],
      "text/plain": [
       "                                            Location  \\\n",
       "0                    Inner Mission & Castro PUMA, CA   \n",
       "1  Battery Park City, Greenwich Village & Soho PU...   \n",
       "2  Chelsea, Clinton & Midtown Business District P...   \n",
       "3  Cupertino, Saratoga Cities & Los Gatos Town PU...   \n",
       "4                  Essex County (Northwest) PUMA, NJ   \n",
       "\n",
       "   Average Salary by Location ($CLP)                      Occupation  \\\n",
       "0                       1.949632e+08                        Surgeons   \n",
       "1                       1.917650e+08                        Dentists   \n",
       "2                       1.851963e+08     Other financial specialists   \n",
       "3                       1.726385e+08  Industrial production managers   \n",
       "4                       1.701101e+08          Insurance sales agents   \n",
       "\n",
       "   Average Salary for Each Occupation by Location($CLP)  \\\n",
       "0                                       1.157392e+09      \n",
       "1                                       1.351998e+09      \n",
       "2                                       1.351998e+09      \n",
       "3                                       1.157392e+09      \n",
       "4                                       1.304883e+09      \n",
       "\n",
       "   Average National Salary for Each Occupation ($CLP)  \n",
       "0                                       5.716605e+08   \n",
       "1                                       2.582252e+08   \n",
       "2                                       1.983192e+08   \n",
       "3                                       1.563127e+08   \n",
       "4                                       1.088942e+08   "
      ]
     },
     "execution_count": 88,
     "metadata": {},
     "output_type": "execute_result"
    }
   ],
   "source": [
    "selected=2022  #AQUI YO PONGO EL AÑO DEL QUE QUIERO REALIZARLO\n",
    "indice=dolar_price[dolar_price['Year']==selected].index[0]\n",
    "BASE=dolar_price.iloc[indice,0] \n",
    "\n",
    "df_bonus1=pd.read_csv('Challenge.csv') #Leo el archivo que cree como challenge en la parte obligatoria\n",
    "\n",
    "df_bonus1[['Average Salary by Location','Average Salary for Each Occupation by Location','Average National Salary for Each Occupation']]=df_bonus1[['Average Salary by Location','Average Salary for Each Occupation by Location','Average National Salary for Each Occupation']]*BASE\n",
    "\n",
    "df_bonus1=df_bonus1.rename(columns={'Average Salary by Location':'Average Salary by Location ($CLP)','Average Salary for Each Occupation by Location':'Average Salary for Each Occupation by Location($CLP)','Average National Salary for Each Occupation':'Average National Salary for Each Occupation ($CLP)'})\n",
    "df_bonus1 = df_bonus1.drop('Unnamed: 0', axis=1)\n",
    "df_bonus1.to_csv('bonus_clp.csv')\n",
    "df_bonus1.head()"
   ]
  },
  {
   "cell_type": "markdown",
   "metadata": {},
   "source": [
    "Entropy of labor by location"
   ]
  },
  {
   "cell_type": "code",
   "execution_count": 107,
   "metadata": {},
   "outputs": [
    {
     "data": {
      "text/html": [
       "<div>\n",
       "<style scoped>\n",
       "    .dataframe tbody tr th:only-of-type {\n",
       "        vertical-align: middle;\n",
       "    }\n",
       "\n",
       "    .dataframe tbody tr th {\n",
       "        vertical-align: top;\n",
       "    }\n",
       "\n",
       "    .dataframe thead th {\n",
       "        text-align: right;\n",
       "    }\n",
       "</style>\n",
       "<table border=\"1\" class=\"dataframe\">\n",
       "  <thead>\n",
       "    <tr style=\"text-align: right;\">\n",
       "      <th></th>\n",
       "      <th>Location</th>\n",
       "      <th>Average Salary by Location</th>\n",
       "      <th>Occupation</th>\n",
       "      <th>Average Salary for Each Occupation by Location</th>\n",
       "      <th>Average National Salary for Each Occupation</th>\n",
       "      <th>Entropy of labor of Each Occupation by location</th>\n",
       "    </tr>\n",
       "  </thead>\n",
       "  <tbody>\n",
       "    <tr>\n",
       "      <th>1014</th>\n",
       "      <td>Inner Mission &amp; Castro PUMA, CA</td>\n",
       "      <td>96420.973134</td>\n",
       "      <td>Surgeons</td>\n",
       "      <td>572399.815668</td>\n",
       "      <td>282720.324022</td>\n",
       "      <td>4.923224</td>\n",
       "    </tr>\n",
       "    <tr>\n",
       "      <th>120</th>\n",
       "      <td>Battery Park City, Greenwich Village &amp; Soho PU...</td>\n",
       "      <td>94839.246750</td>\n",
       "      <td>Dentists</td>\n",
       "      <td>668644.000000</td>\n",
       "      <td>127707.800538</td>\n",
       "      <td>4.667196</td>\n",
       "    </tr>\n",
       "    <tr>\n",
       "      <th>375</th>\n",
       "      <td>Chelsea, Clinton &amp; Midtown Business District P...</td>\n",
       "      <td>91590.648998</td>\n",
       "      <td>Other financial specialists</td>\n",
       "      <td>668644.026490</td>\n",
       "      <td>98080.728621</td>\n",
       "      <td>4.687487</td>\n",
       "    </tr>\n",
       "    <tr>\n",
       "      <th>512</th>\n",
       "      <td>Cupertino, Saratoga Cities &amp; Los Gatos Town PU...</td>\n",
       "      <td>85380.084584</td>\n",
       "      <td>Industrial production managers</td>\n",
       "      <td>572399.803279</td>\n",
       "      <td>77305.982431</td>\n",
       "      <td>4.642591</td>\n",
       "    </tr>\n",
       "    <tr>\n",
       "      <th>683</th>\n",
       "      <td>Essex County (Northwest) PUMA, NJ</td>\n",
       "      <td>84129.644104</td>\n",
       "      <td>Insurance sales agents</td>\n",
       "      <td>645342.838710</td>\n",
       "      <td>53854.686494</td>\n",
       "      <td>4.743560</td>\n",
       "    </tr>\n",
       "  </tbody>\n",
       "</table>\n",
       "</div>"
      ],
      "text/plain": [
       "                                               Location  \\\n",
       "1014                    Inner Mission & Castro PUMA, CA   \n",
       "120   Battery Park City, Greenwich Village & Soho PU...   \n",
       "375   Chelsea, Clinton & Midtown Business District P...   \n",
       "512   Cupertino, Saratoga Cities & Los Gatos Town PU...   \n",
       "683                   Essex County (Northwest) PUMA, NJ   \n",
       "\n",
       "      Average Salary by Location                      Occupation  \\\n",
       "1014                96420.973134                        Surgeons   \n",
       "120                 94839.246750                        Dentists   \n",
       "375                 91590.648998     Other financial specialists   \n",
       "512                 85380.084584  Industrial production managers   \n",
       "683                 84129.644104          Insurance sales agents   \n",
       "\n",
       "      Average Salary for Each Occupation by Location  \\\n",
       "1014                                   572399.815668   \n",
       "120                                    668644.000000   \n",
       "375                                    668644.026490   \n",
       "512                                    572399.803279   \n",
       "683                                    645342.838710   \n",
       "\n",
       "      Average National Salary for Each Occupation  \\\n",
       "1014                                282720.324022   \n",
       "120                                 127707.800538   \n",
       "375                                  98080.728621   \n",
       "512                                  77305.982431   \n",
       "683                                  53854.686494   \n",
       "\n",
       "      Entropy of labor of Each Occupation by location  \n",
       "1014                                         4.923224  \n",
       "120                                          4.667196  \n",
       "375                                          4.687487  \n",
       "512                                          4.642591  \n",
       "683                                          4.743560  "
      ]
     },
     "execution_count": 107,
     "metadata": {},
     "output_type": "execute_result"
    }
   ],
   "source": [
    "#Calculamos la suma del promedio de todos los salarios por localización\n",
    "df_bonus2=df.copy()\n",
    "df_bonus2=df_bonus2.groupby('Location').agg({'AVG Salary for Each Occupation by Location':'sum'}).rename(columns={'AVG Salary for Each Occupation by Location':'Total Salaries by Location'}).reset_index()\n",
    "#Calculamos el total de salarios por localización\n",
    "df_bonus2=pd.merge(df_bonus2,df)\n",
    "df_bonus2=df_bonus2[['Location','Occupation','AVG Salary for Each Occupation by Location','Total Salaries by Location']]\n",
    "df_bonus2 = df_bonus2[df_bonus2['AVG Salary for Each Occupation by Location'] != 0] #Elimnamos los valores 0 para eviatr problemas con logaritmo\n",
    "df_bonus2['Salary Proportion by Occupation']=df_bonus2['AVG Salary for Each Occupation by Location']/df_bonus2['Total Salaries by Location']\n",
    "df_bonus2['Entropy term']=-df_bonus2['Salary Proportion by Occupation']*np.log(df_bonus2['Salary Proportion by Occupation'])\n",
    "df_bonus2=df_bonus2.groupby('Location').agg({'Entropy term':'sum'}).rename(columns={'Entropy term':'Entropy of labor of Each Occupation by location'}).reset_index()\n",
    "\n",
    "df_bonus2=pd.merge(df_bonus2,new_file,on='Location')\n",
    "df_bonus2=df_bonus2[['Location','Average Salary by Location','Occupation','Average Salary for Each Occupation by Location','Average National Salary for Each Occupation','Entropy of labor of Each Occupation by location']].sort_values(by='Average Salary by Location',ascending=False)\n",
    "\n",
    "df_bonus2.to_csv('bonus_entropy.csv')\n",
    "df_bonus2.head()"
   ]
  }
 ],
 "metadata": {
  "kernelspec": {
   "display_name": "base",
   "language": "python",
   "name": "python3"
  },
  "language_info": {
   "codemirror_mode": {
    "name": "ipython",
    "version": 3
   },
   "file_extension": ".py",
   "mimetype": "text/x-python",
   "name": "python",
   "nbconvert_exporter": "python",
   "pygments_lexer": "ipython3",
   "version": "3.11.7"
  }
 },
 "nbformat": 4,
 "nbformat_minor": 2
}
